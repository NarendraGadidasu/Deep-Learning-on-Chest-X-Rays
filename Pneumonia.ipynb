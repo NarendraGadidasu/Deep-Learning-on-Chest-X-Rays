{
  "nbformat": 4,
  "nbformat_minor": 0,
  "metadata": {
    "kernelspec": {
      "display_name": "Python 3",
      "language": "python",
      "name": "python3"
    },
    "language_info": {
      "codemirror_mode": {
        "name": "ipython",
        "version": 3
      },
      "file_extension": ".py",
      "mimetype": "text/x-python",
      "name": "python",
      "nbconvert_exporter": "python",
      "pygments_lexer": "ipython3",
      "version": "3.5.6"
    },
    "colab": {
      "name": "Pneumonia.ipynb",
      "provenance": []
    }
  },
  "cells": [
    {
      "cell_type": "markdown",
      "metadata": {
        "id": "qVqede5KMFrJ"
      },
      "source": [
        "### Section 1: Load headers"
      ]
    },
    {
      "cell_type": "markdown",
      "metadata": {
        "id": "W2ugKbQtMFrK"
      },
      "source": [
        "** Tried with balanced class weights **"
      ]
    },
    {
      "cell_type": "code",
      "metadata": {
        "id": "cXXBosuvMFrL",
        "outputId": "34ba84ad-2829-4dd2-b348-ffceada44e00"
      },
      "source": [
        "import pandas as pd\n",
        "import seaborn as sns\n",
        "import numpy as np\n",
        "import keras\n",
        "from keras.models import Sequential\n",
        "from keras.layers import Dense, Dropout, Flatten\n",
        "from keras.layers import Conv2D, MaxPooling2D\n",
        "from keras.utils import to_categorical\n",
        "from keras.preprocessing import image\n",
        "import matplotlib.pyplot as plt\n",
        "\n",
        "from pylab import rcParams\n",
        "from sklearn.model_selection import train_test_split\n",
        "from keras.utils import to_categorical\n",
        "from sklearn import metrics\n",
        "\n",
        "from sklearn.preprocessing import LabelBinarizer\n",
        "import seaborn as sns\n",
        "\n",
        "from keras.callbacks import EarlyStopping, ReduceLROnPlateau, ModelCheckpoint, Callback\n",
        "from sklearn.utils import class_weight"
      ],
      "execution_count": null,
      "outputs": [
        {
          "output_type": "stream",
          "text": [
            "Using TensorFlow backend.\n"
          ],
          "name": "stderr"
        }
      ]
    },
    {
      "cell_type": "markdown",
      "metadata": {
        "id": "6ecPB2IeMFrO"
      },
      "source": [
        "### Section 2: Load training data and target label"
      ]
    },
    {
      "cell_type": "code",
      "metadata": {
        "id": "_Qy0AxnLMFrP"
      },
      "source": [
        "path = ''\n",
        "data = pd.read_excel('..\\data\\classwise_train\\pneumonia.xlsx')"
      ],
      "execution_count": null,
      "outputs": []
    },
    {
      "cell_type": "code",
      "metadata": {
        "id": "gjEmWjdmMFrR",
        "outputId": "1a94f3e2-2c31-4c03-f9c3-4341efd33116"
      },
      "source": [
        "data.shape"
      ],
      "execution_count": null,
      "outputs": [
        {
          "output_type": "execute_result",
          "data": {
            "text/plain": [
              "(27608, 6)"
            ]
          },
          "metadata": {
            "tags": []
          },
          "execution_count": 3
        }
      ]
    },
    {
      "cell_type": "markdown",
      "metadata": {
        "id": "-XkZhiIkMFrT"
      },
      "source": [
        "#### Section 2.a : Loading data from images and converting into numpy"
      ]
    },
    {
      "cell_type": "code",
      "metadata": {
        "id": "FhHySZ7XMFrU"
      },
      "source": [
        "orig_path = 'CheXpert-v1.0-small'\n",
        "opath_len = len(orig_path)\n",
        "train_image = []\n",
        "for image_path in data['Path'][:10000]:\n",
        "    #print('../data' + image_path[opath_len:])\n",
        "    img = image.load_img('../data' + image_path[opath_len:],target_size=(250,250,3))\n",
        "    img = image.img_to_array(img)\n",
        "    img = img/255\n",
        "    train_image.append(img)\n",
        "    \n",
        "train_data = np.array(train_image)"
      ],
      "execution_count": null,
      "outputs": []
    },
    {
      "cell_type": "code",
      "metadata": {
        "id": "-4YWjVBYMFrW",
        "outputId": "669f06d7-ed41-4af3-9fbe-61fbf774df59"
      },
      "source": [
        "train_data.shape"
      ],
      "execution_count": null,
      "outputs": [
        {
          "output_type": "execute_result",
          "data": {
            "text/plain": [
              "(10000, 250, 250, 3)"
            ]
          },
          "metadata": {
            "tags": []
          },
          "execution_count": 5
        }
      ]
    },
    {
      "cell_type": "code",
      "metadata": {
        "id": "YJC6bpRcMFrY",
        "outputId": "1e1f786e-0f55-4345-cd22-ac818ed6e7f4"
      },
      "source": [
        "rcParams['figure.figsize'] = 5, 5\n",
        "plt.imshow(train_data[11])"
      ],
      "execution_count": null,
      "outputs": [
        {
          "output_type": "execute_result",
          "data": {
            "text/plain": [
              "<matplotlib.image.AxesImage at 0x1f1bcf9d400>"
            ]
          },
          "metadata": {
            "tags": []
          },
          "execution_count": 6
        },
        {
          "output_type": "display_data",
          "data": {
            "image/png": "[encoded data removed]",
            "text/plain": [
              "<Figure size 360x360 with 1 Axes>"
            ]
          },
          "metadata": {
            "tags": [],
            "needs_background": "light"
          }
        }
      ]
    },
    {
      "cell_type": "code",
      "metadata": {
        "id": "g9jsce5XMFra"
      },
      "source": [
        "target_label = np.array(data[:10000].drop(['Path', 'Sex', 'Age', 'Frontal/Lateral', 'AP/PA'],axis=1).fillna(0))"
      ],
      "execution_count": null,
      "outputs": []
    },
    {
      "cell_type": "code",
      "metadata": {
        "id": "1Z_m_HhLMFrc",
        "outputId": "a442eb39-158e-4eb9-a6b1-1c4b2f68a81c"
      },
      "source": [
        "target_label.shape"
      ],
      "execution_count": null,
      "outputs": [
        {
          "output_type": "execute_result",
          "data": {
            "text/plain": [
              "(10000, 1)"
            ]
          },
          "metadata": {
            "tags": []
          },
          "execution_count": 8
        }
      ]
    },
    {
      "cell_type": "code",
      "metadata": {
        "id": "ED27jxTcMFre",
        "outputId": "5b5c4554-2e23-41e9-8be2-3dcdbd9d3858"
      },
      "source": [
        "np.unique(target_label, return_counts=True)"
      ],
      "execution_count": null,
      "outputs": [
        {
          "output_type": "execute_result",
          "data": {
            "text/plain": [
              "(array([-1,  0,  1], dtype=int64), array([6498, 1176, 2326], dtype=int64))"
            ]
          },
          "metadata": {
            "tags": []
          },
          "execution_count": 9
        }
      ]
    },
    {
      "cell_type": "markdown",
      "metadata": {
        "id": "VQcKaS-tMFrg"
      },
      "source": [
        "**Question to address, what to do with -1 class, drop? or combine with 0?**"
      ]
    },
    {
      "cell_type": "code",
      "metadata": {
        "id": "xnqpyw-DMFrg",
        "outputId": "8c425af1-17e5-4219-a66b-35eee12316a4"
      },
      "source": [
        "target_label[target_label<0] = 0\n",
        "np.unique(target_label, return_counts=True)"
      ],
      "execution_count": null,
      "outputs": [
        {
          "output_type": "execute_result",
          "data": {
            "text/plain": [
              "(array([0, 1], dtype=int64), array([7674, 2326], dtype=int64))"
            ]
          },
          "metadata": {
            "tags": []
          },
          "execution_count": 10
        }
      ]
    },
    {
      "cell_type": "markdown",
      "metadata": {
        "id": "AZQ-uyU7MFri"
      },
      "source": [
        "#### Section 2.b: Dividing data into train-test split"
      ]
    },
    {
      "cell_type": "code",
      "metadata": {
        "id": "6TNHhBfHMFrj"
      },
      "source": [
        "X_train, X_test, y_train, y_test = train_test_split(train_data, target_label, random_state=42, test_size=0.1)"
      ],
      "execution_count": null,
      "outputs": []
    },
    {
      "cell_type": "code",
      "metadata": {
        "id": "ZKl3Dtb9MFrl",
        "outputId": "14b35e0e-d320-4221-d135-3eec2ca7568f"
      },
      "source": [
        "np.unique(y_train)"
      ],
      "execution_count": null,
      "outputs": [
        {
          "output_type": "execute_result",
          "data": {
            "text/plain": [
              "array([0, 1], dtype=int64)"
            ]
          },
          "metadata": {
            "tags": []
          },
          "execution_count": 13
        }
      ]
    },
    {
      "cell_type": "code",
      "metadata": {
        "id": "eGYp_vqcMFrn",
        "outputId": "3eb9efd1-5a10-4a1a-b1c1-fb36dc087b6d"
      },
      "source": [
        "y_train.ravel()"
      ],
      "execution_count": null,
      "outputs": [
        {
          "output_type": "execute_result",
          "data": {
            "text/plain": [
              "array([0, 1, 0, ..., 0, 1, 0], dtype=int64)"
            ]
          },
          "metadata": {
            "tags": []
          },
          "execution_count": 15
        }
      ]
    },
    {
      "cell_type": "code",
      "metadata": {
        "id": "s954-P0GMFrp",
        "outputId": "ce161891-c1c8-42ae-decf-33802cf4bf56"
      },
      "source": [
        "# Clearing out memory\n",
        "train_data = []\n",
        "target_label = []\n",
        "# Calculate the weights for each class so that we can balance the data\n",
        "weights = class_weight.compute_class_weight('balanced', np.unique(y_train), y_train.ravel())\n",
        "print(weights)"
      ],
      "execution_count": null,
      "outputs": [
        {
          "output_type": "stream",
          "text": [
            "[0.64953811 2.17181467]\n"
          ],
          "name": "stdout"
        }
      ]
    },
    {
      "cell_type": "code",
      "metadata": {
        "id": "C-LNqvaGMFrr",
        "outputId": "c3518592-4b81-4ed7-dcd1-a4ba3ca1342e"
      },
      "source": [
        "print(np.unique(y_train, return_counts=True))\n",
        "print(np.unique(y_test, return_counts=True))"
      ],
      "execution_count": null,
      "outputs": [
        {
          "output_type": "stream",
          "text": [
            "(array([0, 1], dtype=int64), array([6928, 2072], dtype=int64))\n",
            "(array([0, 1], dtype=int64), array([746, 254], dtype=int64))\n"
          ],
          "name": "stdout"
        }
      ]
    },
    {
      "cell_type": "code",
      "metadata": {
        "id": "3PIQasOvMFrt"
      },
      "source": [
        "y_train = to_categorical(y_train.ravel())\n",
        "y_test = to_categorical(y_test.ravel())"
      ],
      "execution_count": null,
      "outputs": []
    },
    {
      "cell_type": "markdown",
      "metadata": {
        "id": "qDfOIBtsMFru"
      },
      "source": [
        "### Section 3 : Defining the model"
      ]
    },
    {
      "cell_type": "code",
      "metadata": {
        "id": "CM6KFf1WMFrv",
        "outputId": "fb3389e6-081a-4dfb-decc-1bd4cb3417f9"
      },
      "source": [
        "num_classes = 2 ## For 1, 0 , -1\n",
        "## CNN model\n",
        "model = Sequential()\n",
        "model.add(Conv2D(filters=16, kernel_size=(5, 5), activation=\"relu\", input_shape=(250,250,3)))\n",
        "model.add(MaxPooling2D(pool_size=(2, 2)))\n",
        "model.add(Dropout(0.25))\n",
        "model.add(Conv2D(filters=32, kernel_size=(5, 5), activation='relu'))\n",
        "model.add(MaxPooling2D(pool_size=(2, 2)))\n",
        "model.add(Dropout(0.25))\n",
        "model.add(Conv2D(filters=64, kernel_size=(5, 5), activation=\"relu\"))\n",
        "model.add(MaxPooling2D(pool_size=(2, 2)))\n",
        "model.add(Dropout(0.25))\n",
        "model.add(Conv2D(filters=64, kernel_size=(5, 5), activation='relu'))\n",
        "model.add(MaxPooling2D(pool_size=(2, 2)))\n",
        "model.add(Dropout(0.25))\n",
        "model.add(Flatten())\n",
        "model.add(Dense(128, activation='relu'))\n",
        "model.add(Dropout(0.5))\n",
        "model.add(Dense(64, activation='relu'))\n",
        "model.add(Dropout(0.5))\n",
        "model.add(Dense(num_classes, activation='sigmoid'))\n",
        "#model.add(Dense(num_classes, activation='softmax'))\n",
        "\n",
        "model.compile(optimizer='adam', loss='binary_crossentropy', metrics=['accuracy'])\n"
      ],
      "execution_count": null,
      "outputs": [
        {
          "output_type": "stream",
          "text": [
            "WARNING:tensorflow:From D:\\Users\\Aditya Bhattacharya\\Anaconda3\\lib\\site-packages\\tensorflow\\python\\framework\\op_def_library.py:263: colocate_with (from tensorflow.python.framework.ops) is deprecated and will be removed in a future version.\n",
            "Instructions for updating:\n",
            "Colocations handled automatically by placer.\n",
            "WARNING:tensorflow:From D:\\Users\\Aditya Bhattacharya\\Anaconda3\\lib\\site-packages\\keras\\backend\\tensorflow_backend.py:3445: calling dropout (from tensorflow.python.ops.nn_ops) with keep_prob is deprecated and will be removed in a future version.\n",
            "Instructions for updating:\n",
            "Please use `rate` instead of `keep_prob`. Rate should be set to `rate = 1 - keep_prob`.\n"
          ],
          "name": "stdout"
        }
      ]
    },
    {
      "cell_type": "code",
      "metadata": {
        "id": "Z_ixGb0AMFrx",
        "outputId": "4cdc6edc-dc10-4186-c694-8f27cb64b60e"
      },
      "source": [
        "model.summary()"
      ],
      "execution_count": null,
      "outputs": [
        {
          "output_type": "stream",
          "text": [
            "_________________________________________________________________\n",
            "Layer (type)                 Output Shape              Param #   \n",
            "=================================================================\n",
            "conv2d_1 (Conv2D)            (None, 246, 246, 16)      1216      \n",
            "_________________________________________________________________\n",
            "max_pooling2d_1 (MaxPooling2 (None, 123, 123, 16)      0         \n",
            "_________________________________________________________________\n",
            "dropout_1 (Dropout)          (None, 123, 123, 16)      0         \n",
            "_________________________________________________________________\n",
            "conv2d_2 (Conv2D)            (None, 119, 119, 32)      12832     \n",
            "_________________________________________________________________\n",
            "max_pooling2d_2 (MaxPooling2 (None, 59, 59, 32)        0         \n",
            "_________________________________________________________________\n",
            "dropout_2 (Dropout)          (None, 59, 59, 32)        0         \n",
            "_________________________________________________________________\n",
            "conv2d_3 (Conv2D)            (None, 55, 55, 64)        51264     \n",
            "_________________________________________________________________\n",
            "max_pooling2d_3 (MaxPooling2 (None, 27, 27, 64)        0         \n",
            "_________________________________________________________________\n",
            "dropout_3 (Dropout)          (None, 27, 27, 64)        0         \n",
            "_________________________________________________________________\n",
            "conv2d_4 (Conv2D)            (None, 23, 23, 64)        102464    \n",
            "_________________________________________________________________\n",
            "max_pooling2d_4 (MaxPooling2 (None, 11, 11, 64)        0         \n",
            "_________________________________________________________________\n",
            "dropout_4 (Dropout)          (None, 11, 11, 64)        0         \n",
            "_________________________________________________________________\n",
            "flatten_1 (Flatten)          (None, 7744)              0         \n",
            "_________________________________________________________________\n",
            "dense_1 (Dense)              (None, 128)               991360    \n",
            "_________________________________________________________________\n",
            "dropout_5 (Dropout)          (None, 128)               0         \n",
            "_________________________________________________________________\n",
            "dense_2 (Dense)              (None, 64)                8256      \n",
            "_________________________________________________________________\n",
            "dropout_6 (Dropout)          (None, 64)                0         \n",
            "_________________________________________________________________\n",
            "dense_3 (Dense)              (None, 2)                 130       \n",
            "=================================================================\n",
            "Total params: 1,167,522\n",
            "Trainable params: 1,167,522\n",
            "Non-trainable params: 0\n",
            "_________________________________________________________________\n"
          ],
          "name": "stdout"
        }
      ]
    },
    {
      "cell_type": "code",
      "metadata": {
        "id": "MR4fgsteMFrz"
      },
      "source": [
        "early_stop = EarlyStopping(monitor='val_loss', patience=8, verbose=1, min_delta=1e-4)\n",
        "reduce_lr = ReduceLROnPlateau(monitor='val_loss', factor=0.1, patience=4, verbose=1, min_delta=1e-4)\n",
        "callbacks_list = [early_stop, reduce_lr]"
      ],
      "execution_count": null,
      "outputs": []
    },
    {
      "cell_type": "markdown",
      "metadata": {
        "id": "gMK1x46WMFr1"
      },
      "source": [
        "#### Section 4: Training the model"
      ]
    },
    {
      "cell_type": "code",
      "metadata": {
        "id": "nsu12UdTMFr1",
        "outputId": "aa1d5150-3e84-441b-9cac-bf536f47d5bb"
      },
      "source": [
        "model.fit(x = X_train, y = y_train, batch_size = 32, epochs = 10, callbacks = callbacks_list, validation_data = (X_test, y_test), class_weight=weights)"
      ],
      "execution_count": null,
      "outputs": [
        {
          "output_type": "stream",
          "text": [
            "WARNING:tensorflow:From D:\\Users\\Aditya Bhattacharya\\Anaconda3\\lib\\site-packages\\tensorflow\\python\\ops\\math_ops.py:3066: to_int32 (from tensorflow.python.ops.math_ops) is deprecated and will be removed in a future version.\n",
            "Instructions for updating:\n",
            "Use tf.cast instead.\n",
            "Train on 9000 samples, validate on 1000 samples\n",
            "Epoch 1/10\n",
            "9000/9000 [==============================] - 50s 6ms/step - loss: 0.5668 - acc: 0.7681 - val_loss: 0.5662 - val_acc: 0.7460\n",
            "Epoch 2/10\n",
            "9000/9000 [==============================] - 26s 3ms/step - loss: 0.5557 - acc: 0.7698 - val_loss: 0.5672 - val_acc: 0.74605566 \n",
            "Epoch 3/10\n",
            "9000/9000 [==============================] - 27s 3ms/step - loss: 0.5478 - acc: 0.7698 - val_loss: 0.5665 - val_acc: 0.7460A  - ETA: 1s - loss: 0.5\n",
            "Epoch 4/10\n",
            "9000/9000 [==============================] - 27s 3ms/step - loss: 0.5430 - acc: 0.7698 - val_loss: 0.5658 - val_acc: 0.7460\n",
            "Epoch 5/10\n",
            "9000/9000 [==============================] - 27s 3ms/step - loss: 0.5426 - acc: 0.7698 - val_loss: 0.5671 - val_acc: 0.7460A: 1s - loss: 0.5436 \n",
            "Epoch 6/10\n",
            "9000/9000 [==============================] - 27s 3ms/step - loss: 0.5429 - acc: 0.7698 - val_loss: 0.5669 - val_acc: 0.746026 - acc: 0\n",
            "Epoch 7/10\n",
            "9000/9000 [==============================] - 27s 3ms/step - loss: 0.5409 - acc: 0.7698 - val_loss: 0.5671 - val_acc: 0.7460loss: 0.5418 - acc: 0.7 - ETA: 3s - loss: 0.5413 - acc: 0.7 - ETA: 3s - loss: 0.5401 -  - ETA: 2s - loss: 0.5398 -  - ETA: 1s - loss: 0.5398 \n",
            "Epoch 8/10\n",
            "9000/9000 [==============================] - 27s 3ms/step - loss: 0.5411 - acc: 0.7698 - val_loss: 0.5658 - val_acc: 0.7460\n",
            "\n",
            "Epoch 00008: ReduceLROnPlateau reducing learning rate to 0.00010000000474974513.\n",
            "Epoch 9/10\n",
            "9000/9000 [==============================] - 28s 3ms/step - loss: 0.5394 - acc: 0.7698 - val_loss: 0.5653 - val_acc: 0.7460- loss: 0.5406 - a\n",
            "Epoch 10/10\n",
            "9000/9000 [==============================] - 27s 3ms/step - loss: 0.5374 - acc: 0.7698 - val_loss: 0.5656 - val_acc: 0.7460A: 8s  - ETA: 6s - loss: 0.5389 - a - - ETA: 2s - lo\n"
          ],
          "name": "stdout"
        },
        {
          "output_type": "execute_result",
          "data": {
            "text/plain": [
              "<keras.callbacks.History at 0x1effc086358>"
            ]
          },
          "metadata": {
            "tags": []
          },
          "execution_count": 24
        }
      ]
    },
    {
      "cell_type": "code",
      "metadata": {
        "id": "LzOBHNG2MFr3",
        "outputId": "5896fece-3fb1-4cf2-8a52-ea8a0006ebce"
      },
      "source": [
        "train_acc = model.history.history['acc']\n",
        "train_loss = model.history.history['loss']\n",
        "val_acc = model.history.history['val_acc']\n",
        "val_loss = model.history.history['val_loss']\n",
        "\n",
        "epochs = range(1, len(train_acc)+1)\n",
        "\n",
        "plt.plot(epochs, train_acc, 'r', label = 'Training Acc')\n",
        "plt.plot(epochs, val_acc, 'b', label = 'Validation Acc')\n",
        "plt.title('Training and Validation Accuracy')\n",
        "plt.legend()\n",
        "plt.show()\n",
        "plt.plot(epochs, train_loss, 'r', label = 'Training Loss')\n",
        "plt.plot(epochs, val_loss, 'b', label = 'Validation Loss')\n",
        "plt.title('Training and Validation Loss')\n",
        "plt.legend()\n",
        "plt.show()"
      ],
      "execution_count": null,
      "outputs": [
        {
          "output_type": "display_data",
          "data": {
            "image/png": "[encoded data removed]",
            "text/plain": [
              "<Figure size 360x360 with 1 Axes>"
            ]
          },
          "metadata": {
            "tags": [],
            "needs_background": "light"
          }
        },
        {
          "output_type": "display_data",
          "data": {
            "image/png": "[encoded data removed]",
            "text/plain": [
              "<Figure size 360x360 with 1 Axes>"
            ]
          },
          "metadata": {
            "tags": [],
            "needs_background": "light"
          }
        }
      ]
    },
    {
      "cell_type": "markdown",
      "metadata": {
        "id": "6XMAU7KBMFr5"
      },
      "source": [
        "### Section 5: Predicting from valid data"
      ]
    },
    {
      "cell_type": "code",
      "metadata": {
        "id": "t7udPNx8MFr5"
      },
      "source": [
        "test_data = np.load('../../numpy_weights/valid_test_data.npy')"
      ],
      "execution_count": null,
      "outputs": []
    },
    {
      "cell_type": "code",
      "metadata": {
        "id": "V7p-6uI3MFr8",
        "outputId": "9ecbac5f-3873-4cc3-80c5-d5260fb68a2d"
      },
      "source": [
        "path = ''\n",
        "valid_data = pd.read_csv(path + '../data/valid.csv')\n",
        "valid_data.columns"
      ],
      "execution_count": null,
      "outputs": [
        {
          "output_type": "execute_result",
          "data": {
            "text/plain": [
              "Index(['Path', 'Sex', 'Age', 'Frontal/Lateral', 'AP/PA', 'No Finding',\n",
              "       'Enlarged Cardiomediastinum', 'Cardiomegaly', 'Lung Opacity',\n",
              "       'Lung Lesion', 'Edema', 'Consolidation', 'Pneumonia', 'Atelectasis',\n",
              "       'Pneumothorax', 'Pleural Effusion', 'Pleural Other', 'Fracture',\n",
              "       'Support Devices'],\n",
              "      dtype='object')"
            ]
          },
          "metadata": {
            "tags": []
          },
          "execution_count": 27
        }
      ]
    },
    {
      "cell_type": "code",
      "metadata": {
        "id": "W1OhfstNMFr-",
        "outputId": "1a1076ed-2da3-4182-ba06-555a9efb2db0"
      },
      "source": [
        "test_label = np.array(valid_data.drop(['Path', 'Sex', 'Age', 'Frontal/Lateral', 'AP/PA'],axis=1).fillna(0))\n",
        "ec_test_label = test_label[:,7:8]\n",
        "print(valid_data.columns[5+7:6+7])\n",
        "print(ec_test_label.shape)\n",
        "np.unique(ec_test_label, return_counts=True)"
      ],
      "execution_count": null,
      "outputs": [
        {
          "output_type": "stream",
          "text": [
            "Index(['Pneumonia'], dtype='object')\n",
            "(234, 1)\n"
          ],
          "name": "stdout"
        },
        {
          "output_type": "execute_result",
          "data": {
            "text/plain": [
              "(array([0., 1.]), array([226,   8], dtype=int64))"
            ]
          },
          "metadata": {
            "tags": []
          },
          "execution_count": 30
        }
      ]
    },
    {
      "cell_type": "code",
      "metadata": {
        "id": "-9opNP-oMFsA",
        "outputId": "fc1f39da-e248-4273-beec-12af86d46dc1"
      },
      "source": [
        "y_orig = to_categorical(ec_test_label.ravel())\n",
        "print(y_orig.shape)\n",
        "pred = model.predict(test_data)\n",
        "y_pred = np.where(pred > 0.5, 1.0, 0.0)"
      ],
      "execution_count": null,
      "outputs": [
        {
          "output_type": "stream",
          "text": [
            "(234, 2)\n"
          ],
          "name": "stdout"
        }
      ]
    },
    {
      "cell_type": "markdown",
      "metadata": {
        "id": "4VsmwfcCMFsC"
      },
      "source": [
        "### Section 6: Performance Evaluation Metrics"
      ]
    },
    {
      "cell_type": "code",
      "metadata": {
        "id": "hk6PAUu7MFsC"
      },
      "source": [
        "def multiclass_roc_auc_score(y_test, y_pred, average=\"macro\"):\n",
        "        lb = LabelBinarizer()\n",
        "        lb.fit(y_test)\n",
        "        y_test = lb.transform(y_test)\n",
        "        y_pred = lb.transform(y_pred)\n",
        "        return metrics.roc_auc_score(y_test, y_pred, average=average)\n",
        "        \n",
        "def evaluate_model_performance_valid_data(y_orig, y_pred):\n",
        "        accuracy = metrics.accuracy_score(y_orig, y_pred)\n",
        "        print('Accuracy is:',accuracy)\n",
        "\n",
        "        # For precision of each class individually use average= None\n",
        "        precision = metrics.precision_score(y_orig, y_pred, average='macro')\n",
        "        print('Precision is:',precision)\n",
        "\n",
        "        # For recall of each class individually use average= None\n",
        "        recall = metrics.recall_score(y_orig, y_pred, average='macro')\n",
        "        print('Recall is:',recall)\n",
        "\n",
        "        # For recall of each class individually use average= None\n",
        "        f1_score_value = metrics.f1_score(y_orig, y_pred, average='macro')\n",
        "        print('F1 Score is:',f1_score_value)\n",
        "        \n",
        "        # AUC Scores\n",
        "        auc_score = multiclass_roc_auc_score(y_orig, y_pred)\n",
        "        print('AUC score is:', auc_score)\n",
        "\n",
        "        cm = metrics.confusion_matrix(y_orig.argmax(axis=1), y_pred.argmax(axis=1))\n",
        "        print(cm)\n",
        "\n",
        "        plt.figure(figsize=(5,5))\n",
        "        sns.heatmap(cm, annot=True, fmt=\".2f\", linewidths=.5, square = True, cmap = 'Blues');\n",
        "        plt.ylabel('Actual label');\n",
        "        plt.xlabel('Predicted label');\n",
        "        all_sample_title = 'Accuracy Score: {0}'.format(accuracy)\n",
        "        plt.title(all_sample_title, size = 12)"
      ],
      "execution_count": null,
      "outputs": []
    },
    {
      "cell_type": "code",
      "metadata": {
        "id": "Ms6ffKb_MFsE",
        "outputId": "c138d9ac-13d5-4e68-f989-5ffb7c9e2d92"
      },
      "source": [
        "evaluate_model_performance_valid_data(y_orig, y_pred)"
      ],
      "execution_count": null,
      "outputs": [
        {
          "output_type": "stream",
          "text": [
            "Accuracy is: 0.9658119658119658\n",
            "Precision is: 0.4829059829059829\n",
            "Recall is: 0.5\n",
            "F1 Score is: 0.49130434782608695\n",
            "AUC score is: 0.5\n",
            "[[226   0]\n",
            " [  8   0]]\n"
          ],
          "name": "stdout"
        },
        {
          "output_type": "stream",
          "text": [
            "D:\\Users\\Aditya Bhattacharya\\Anaconda3\\lib\\site-packages\\sklearn\\metrics\\classification.py:1135: UndefinedMetricWarning: Precision is ill-defined and being set to 0.0 in labels with no predicted samples.\n",
            "  'precision', 'predicted', average, warn_for)\n",
            "D:\\Users\\Aditya Bhattacharya\\Anaconda3\\lib\\site-packages\\sklearn\\metrics\\classification.py:1135: UndefinedMetricWarning: F-score is ill-defined and being set to 0.0 in labels with no predicted samples.\n",
            "  'precision', 'predicted', average, warn_for)\n"
          ],
          "name": "stderr"
        },
        {
          "output_type": "display_data",
          "data": {
            "image/png": "[encoded data removed]",
            "text/plain": [
              "<Figure size 360x360 with 2 Axes>"
            ]
          },
          "metadata": {
            "tags": [],
            "needs_background": "light"
          }
        }
      ]
    },
    {
      "cell_type": "code",
      "metadata": {
        "id": "92BjHO7wMFsG"
      },
      "source": [
        ""
      ],
      "execution_count": null,
      "outputs": []
    }
  ]
}