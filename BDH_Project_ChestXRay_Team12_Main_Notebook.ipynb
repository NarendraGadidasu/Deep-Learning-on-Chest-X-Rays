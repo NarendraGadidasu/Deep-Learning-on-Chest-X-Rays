{
  "nbformat": 4,
  "nbformat_minor": 0,
  "metadata": {
    "kernelspec": {
      "display_name": "Python 3",
      "language": "python",
      "name": "python3"
    },
    "language_info": {
      "codemirror_mode": {
        "name": "ipython",
        "version": 3
      },
      "file_extension": ".py",
      "mimetype": "text/x-python",
      "name": "python",
      "nbconvert_exporter": "python",
      "pygments_lexer": "ipython3",
      "version": "3.5.6"
    },
    "colab": {
      "name": "BDH-Project-ChestXRay-Team12-Main-Notebook.ipynb",
      "provenance": []
    }
  },
  "cells": [
    {
      "cell_type": "markdown",
      "metadata": {
        "id": "2ra37TCGLllJ"
      },
      "source": [
        "# CSE - 6250: Big Data for Healthcare Final Project - Chest XRay\n",
        "\n",
        "**Proposal**: Detection and Localization of Chest Pathologies using CheXpert Dataset and performing disease correlation with Age Group and Gender\n",
        "\n",
        "**Authors**: Aditya Bhattacharya <abhattac34@gatech.edu> , Damodara Gadidasu <dgadidasu3@gatech.edu>, Manoj Mahato <mmahato3@gatech.edu> *Team12_ChestXray*"
      ]
    },
    {
      "cell_type": "markdown",
      "metadata": {
        "id": "BkqBu50tLllK"
      },
      "source": [
        "### About the project:"
      ]
    },
    {
      "cell_type": "markdown",
      "metadata": {
        "id": "JS4IqKU4LllL"
      },
      "source": [
        "Automated analysis of Chest X-ray images to diagnose various pathologies will help in overcoming the costly, time-consuming and prone to error manual analysis of them, especially using deep learning based approaches. One of such recent efforts in this direction is “A Novel Approach for Multi-Label Chest X-Ray Classification of Common Thorax diseases” by Imane Allaouzi and Mohamed Ben Ahmed which combines the advantages of CNN based feature extraction and problem transformation methods in multi-label classification task. In this project, we seek to replicate various aspects of this paper and will try to improve the results by incorporating new ideas like incorporating gender and age group in disease detection and working on unexplored areas such as incorporating attention mechanism, trying other classifiers like ensemble methods like Random Forest, AdaBoost and XGBoost as base classifier etc. We will be using CheXpert dataset to replicate or improve upon the results in the mentioned paper."
      ]
    },
    {
      "cell_type": "markdown",
      "metadata": {
        "id": "EdsbUVvuLllL"
      },
      "source": [
        "### About the data:"
      ]
    },
    {
      "cell_type": "markdown",
      "metadata": {
        "id": "bnYSMYDGLllM"
      },
      "source": [
        "This project was implemented using the CheXpert dataset prepared by Stanford University ML group as mentioned in the [link](https://stanfordmlgroup.github.io/competitions/chexpert/)\n",
        "The various experiments within this project was conducted using the [downsampled](https://us13.mailchimp.com/mctx/click?url=http%3A%2F%2Fdownload.cs.stanford.edu%2Fdeep%2FCheXpert-v1.0-small.zip&xid=e8c89d129f&uid=55365305&pool=&subject= ) (lower resolution) CheXpert dataset. As mentioned in the referenced [link](https://stanfordmlgroup.github.io/competitions/chexpert/), CheXpert is a large public dataset for chest radiograph interpretation, consisting of 224,316 chest radiographs of 65,240 patients. We retrospectively collected the chest radiographic examinations from Stanford Hospital, performed between October 2002 and July 2017 in both inpatient and outpatient centers, along with their associated radiology reports."
      ]
    },
    {
      "cell_type": "markdown",
      "metadata": {
        "id": "gI-MJ0dZLllM"
      },
      "source": [
        "### Description of Project Approach:\n",
        "\n",
        "<br>\n",
        "\n",
        "<li> The very initial step that the team started with once the access to the data was obtained is the Exploratory Data Analysis (EDA) The various EDA steps will be in this notebook under the EDA section. From the EDA process we found out that the data-set had labelled data related to 14 medical conditions around the thoraic region. But the data distribution was not all uniform. Also, since there was no confirmed answer of how to handle the uncertain or -1 labelled classes, and the null or empty claases, so these two observations lead to the initial assumption that the final model results could have been skewed if these two challenges are not tackled properly.\n",
        "\n",
        "<li> So, for this analysis, we have taken the approach of doing individual class wise binary classification, thereby ignoring the -1 or uncertain classes.\n",
        "\n",
        "<li> Various claasification techniques were applied. And different modelling approaches were applied like 7 layered Dense Neural Network (which we will be refering as LightNet-7), DenseNet121 from scratch, DenseNet121 from pre-trained weights from the ImageNet dataset, and hybrid CNN and Ensemble classification algorithms like Random Forests, AdaBoosts and XGBoost was applied.\n",
        "\n",
        "<li> The problem of imbalanced dataset, which might add bias to the majority class, was tackled by using upsampling of the minority class using the [SMOTE]<a href>(https://link.springer.com/content/pdf/10.1007/978-3-642-41822-8_42.pdf)</a> technique and Data Augmentation\n",
        "\n",
        "<li> SMOTE proved to most successful and based on that the result of the best models are shown in this notebook.</li>\n",
        "\n",
        "**The presentation link for our project can be found at : https://youtu.be/XCHKkCnjcSY**"
      ]
    },
    {
      "cell_type": "markdown",
      "metadata": {
        "id": "qWSyYbOiLllN"
      },
      "source": [
        "### Section 0- Importing the required python modules"
      ]
    },
    {
      "cell_type": "code",
      "metadata": {
        "id": "RcmYsYnNLllN"
      },
      "source": [
        "import pandas as pd\n",
        "import seaborn as sns"
      ],
      "execution_count": null,
      "outputs": []
    },
    {
      "cell_type": "markdown",
      "metadata": {
        "id": "UQZUh4R_LllR"
      },
      "source": [
        "### Section 1 - Loading the data and exploratory data analysis"
      ]
    },
    {
      "cell_type": "code",
      "metadata": {
        "id": "tZLDLzu9LllS",
        "outputId": "0b1585b8-beac-432b-bba3-b2754d46d065"
      },
      "source": [
        "path = ''\n",
        "train_data = pd.read_csv(path + 'data/train.csv')\n",
        "display('Taking a peak at the data')\n",
        "train_data.head()"
      ],
      "execution_count": null,
      "outputs": [
        {
          "output_type": "display_data",
          "data": {
            "text/plain": [
              "'Taking a peak at the data'"
            ]
          },
          "metadata": {
            "tags": []
          }
        },
        {
          "output_type": "execute_result",
          "data": {
            "text/html": [
              "<div>\n",
              "<style scoped>\n",
              "    .dataframe tbody tr th:only-of-type {\n",
              "        vertical-align: middle;\n",
              "    }\n",
              "\n",
              "    .dataframe tbody tr th {\n",
              "        vertical-align: top;\n",
              "    }\n",
              "\n",
              "    .dataframe thead th {\n",
              "        text-align: right;\n",
              "    }\n",
              "</style>\n",
              "<table border=\"1\" class=\"dataframe\">\n",
              "  <thead>\n",
              "    <tr style=\"text-align: right;\">\n",
              "      <th></th>\n",
              "      <th>Path</th>\n",
              "      <th>Sex</th>\n",
              "      <th>Age</th>\n",
              "      <th>Frontal/Lateral</th>\n",
              "      <th>AP/PA</th>\n",
              "      <th>No Finding</th>\n",
              "      <th>Enlarged Cardiomediastinum</th>\n",
              "      <th>Cardiomegaly</th>\n",
              "      <th>Lung Opacity</th>\n",
              "      <th>Lung Lesion</th>\n",
              "      <th>Edema</th>\n",
              "      <th>Consolidation</th>\n",
              "      <th>Pneumonia</th>\n",
              "      <th>Atelectasis</th>\n",
              "      <th>Pneumothorax</th>\n",
              "      <th>Pleural Effusion</th>\n",
              "      <th>Pleural Other</th>\n",
              "      <th>Fracture</th>\n",
              "      <th>Support Devices</th>\n",
              "    </tr>\n",
              "  </thead>\n",
              "  <tbody>\n",
              "    <tr>\n",
              "      <th>0</th>\n",
              "      <td>CheXpert-v1.0-small/train/patient00001/study1/...</td>\n",
              "      <td>Female</td>\n",
              "      <td>68</td>\n",
              "      <td>Frontal</td>\n",
              "      <td>AP</td>\n",
              "      <td>1.0</td>\n",
              "      <td>NaN</td>\n",
              "      <td>NaN</td>\n",
              "      <td>NaN</td>\n",
              "      <td>NaN</td>\n",
              "      <td>NaN</td>\n",
              "      <td>NaN</td>\n",
              "      <td>NaN</td>\n",
              "      <td>NaN</td>\n",
              "      <td>0.0</td>\n",
              "      <td>NaN</td>\n",
              "      <td>NaN</td>\n",
              "      <td>NaN</td>\n",
              "      <td>1.0</td>\n",
              "    </tr>\n",
              "    <tr>\n",
              "      <th>1</th>\n",
              "      <td>CheXpert-v1.0-small/train/patient00002/study2/...</td>\n",
              "      <td>Female</td>\n",
              "      <td>87</td>\n",
              "      <td>Frontal</td>\n",
              "      <td>AP</td>\n",
              "      <td>NaN</td>\n",
              "      <td>NaN</td>\n",
              "      <td>-1.0</td>\n",
              "      <td>1.0</td>\n",
              "      <td>NaN</td>\n",
              "      <td>-1.0</td>\n",
              "      <td>-1.0</td>\n",
              "      <td>NaN</td>\n",
              "      <td>-1.0</td>\n",
              "      <td>NaN</td>\n",
              "      <td>-1.0</td>\n",
              "      <td>NaN</td>\n",
              "      <td>1.0</td>\n",
              "      <td>NaN</td>\n",
              "    </tr>\n",
              "    <tr>\n",
              "      <th>2</th>\n",
              "      <td>CheXpert-v1.0-small/train/patient00002/study1/...</td>\n",
              "      <td>Female</td>\n",
              "      <td>83</td>\n",
              "      <td>Frontal</td>\n",
              "      <td>AP</td>\n",
              "      <td>NaN</td>\n",
              "      <td>NaN</td>\n",
              "      <td>NaN</td>\n",
              "      <td>1.0</td>\n",
              "      <td>NaN</td>\n",
              "      <td>NaN</td>\n",
              "      <td>-1.0</td>\n",
              "      <td>NaN</td>\n",
              "      <td>NaN</td>\n",
              "      <td>NaN</td>\n",
              "      <td>NaN</td>\n",
              "      <td>NaN</td>\n",
              "      <td>1.0</td>\n",
              "      <td>NaN</td>\n",
              "    </tr>\n",
              "    <tr>\n",
              "      <th>3</th>\n",
              "      <td>CheXpert-v1.0-small/train/patient00002/study1/...</td>\n",
              "      <td>Female</td>\n",
              "      <td>83</td>\n",
              "      <td>Lateral</td>\n",
              "      <td>NaN</td>\n",
              "      <td>NaN</td>\n",
              "      <td>NaN</td>\n",
              "      <td>NaN</td>\n",
              "      <td>1.0</td>\n",
              "      <td>NaN</td>\n",
              "      <td>NaN</td>\n",
              "      <td>-1.0</td>\n",
              "      <td>NaN</td>\n",
              "      <td>NaN</td>\n",
              "      <td>NaN</td>\n",
              "      <td>NaN</td>\n",
              "      <td>NaN</td>\n",
              "      <td>1.0</td>\n",
              "      <td>NaN</td>\n",
              "    </tr>\n",
              "    <tr>\n",
              "      <th>4</th>\n",
              "      <td>CheXpert-v1.0-small/train/patient00003/study1/...</td>\n",
              "      <td>Male</td>\n",
              "      <td>41</td>\n",
              "      <td>Frontal</td>\n",
              "      <td>AP</td>\n",
              "      <td>NaN</td>\n",
              "      <td>NaN</td>\n",
              "      <td>NaN</td>\n",
              "      <td>NaN</td>\n",
              "      <td>NaN</td>\n",
              "      <td>1.0</td>\n",
              "      <td>NaN</td>\n",
              "      <td>NaN</td>\n",
              "      <td>NaN</td>\n",
              "      <td>0.0</td>\n",
              "      <td>NaN</td>\n",
              "      <td>NaN</td>\n",
              "      <td>NaN</td>\n",
              "      <td>NaN</td>\n",
              "    </tr>\n",
              "  </tbody>\n",
              "</table>\n",
              "</div>"
            ],
            "text/plain": [
              "                                                Path     Sex  Age  \\\n",
              "0  CheXpert-v1.0-small/train/patient00001/study1/...  Female   68   \n",
              "1  CheXpert-v1.0-small/train/patient00002/study2/...  Female   87   \n",
              "2  CheXpert-v1.0-small/train/patient00002/study1/...  Female   83   \n",
              "3  CheXpert-v1.0-small/train/patient00002/study1/...  Female   83   \n",
              "4  CheXpert-v1.0-small/train/patient00003/study1/...    Male   41   \n",
              "\n",
              "  Frontal/Lateral AP/PA  No Finding  Enlarged Cardiomediastinum  Cardiomegaly  \\\n",
              "0         Frontal    AP         1.0                         NaN           NaN   \n",
              "1         Frontal    AP         NaN                         NaN          -1.0   \n",
              "2         Frontal    AP         NaN                         NaN           NaN   \n",
              "3         Lateral   NaN         NaN                         NaN           NaN   \n",
              "4         Frontal    AP         NaN                         NaN           NaN   \n",
              "\n",
              "   Lung Opacity  Lung Lesion  Edema  Consolidation  Pneumonia  Atelectasis  \\\n",
              "0           NaN          NaN    NaN            NaN        NaN          NaN   \n",
              "1           1.0          NaN   -1.0           -1.0        NaN         -1.0   \n",
              "2           1.0          NaN    NaN           -1.0        NaN          NaN   \n",
              "3           1.0          NaN    NaN           -1.0        NaN          NaN   \n",
              "4           NaN          NaN    1.0            NaN        NaN          NaN   \n",
              "\n",
              "   Pneumothorax  Pleural Effusion  Pleural Other  Fracture  Support Devices  \n",
              "0           0.0               NaN            NaN       NaN              1.0  \n",
              "1           NaN              -1.0            NaN       1.0              NaN  \n",
              "2           NaN               NaN            NaN       1.0              NaN  \n",
              "3           NaN               NaN            NaN       1.0              NaN  \n",
              "4           0.0               NaN            NaN       NaN              NaN  "
            ]
          },
          "metadata": {
            "tags": []
          },
          "execution_count": 3
        }
      ]
    },
    {
      "cell_type": "code",
      "metadata": {
        "id": "LiATQ913LllW",
        "outputId": "51d302ad-f0b0-4725-b6f6-49da8c9f6974"
      },
      "source": [
        "print('Dimensions of the dataset:')\n",
        "train_data.shape"
      ],
      "execution_count": null,
      "outputs": [
        {
          "output_type": "stream",
          "text": [
            "Dimensions of the dataset:\n"
          ],
          "name": "stdout"
        },
        {
          "output_type": "execute_result",
          "data": {
            "text/plain": [
              "(223414, 19)"
            ]
          },
          "metadata": {
            "tags": []
          },
          "execution_count": 6
        }
      ]
    },
    {
      "cell_type": "code",
      "metadata": {
        "id": "VvfmTP6GLllY",
        "outputId": "11cde3c1-3da2-43b9-ca7a-854c2458298a"
      },
      "source": [
        "print('Loading the validation dataset:')\n",
        "valid_data = pd.read_csv(path + 'data/valid.csv')\n",
        "valid_data.head()"
      ],
      "execution_count": null,
      "outputs": [
        {
          "output_type": "stream",
          "text": [
            "Loading the validation dataset:\n"
          ],
          "name": "stdout"
        },
        {
          "output_type": "execute_result",
          "data": {
            "text/html": [
              "<div>\n",
              "<style scoped>\n",
              "    .dataframe tbody tr th:only-of-type {\n",
              "        vertical-align: middle;\n",
              "    }\n",
              "\n",
              "    .dataframe tbody tr th {\n",
              "        vertical-align: top;\n",
              "    }\n",
              "\n",
              "    .dataframe thead th {\n",
              "        text-align: right;\n",
              "    }\n",
              "</style>\n",
              "<table border=\"1\" class=\"dataframe\">\n",
              "  <thead>\n",
              "    <tr style=\"text-align: right;\">\n",
              "      <th></th>\n",
              "      <th>Path</th>\n",
              "      <th>Sex</th>\n",
              "      <th>Age</th>\n",
              "      <th>Frontal/Lateral</th>\n",
              "      <th>AP/PA</th>\n",
              "      <th>No Finding</th>\n",
              "      <th>Enlarged Cardiomediastinum</th>\n",
              "      <th>Cardiomegaly</th>\n",
              "      <th>Lung Opacity</th>\n",
              "      <th>Lung Lesion</th>\n",
              "      <th>Edema</th>\n",
              "      <th>Consolidation</th>\n",
              "      <th>Pneumonia</th>\n",
              "      <th>Atelectasis</th>\n",
              "      <th>Pneumothorax</th>\n",
              "      <th>Pleural Effusion</th>\n",
              "      <th>Pleural Other</th>\n",
              "      <th>Fracture</th>\n",
              "      <th>Support Devices</th>\n",
              "    </tr>\n",
              "  </thead>\n",
              "  <tbody>\n",
              "    <tr>\n",
              "      <th>0</th>\n",
              "      <td>CheXpert-v1.0-small/valid/patient64541/study1/...</td>\n",
              "      <td>Male</td>\n",
              "      <td>73</td>\n",
              "      <td>Frontal</td>\n",
              "      <td>AP</td>\n",
              "      <td>0.0</td>\n",
              "      <td>1.0</td>\n",
              "      <td>1.0</td>\n",
              "      <td>1.0</td>\n",
              "      <td>0.0</td>\n",
              "      <td>0.0</td>\n",
              "      <td>0.0</td>\n",
              "      <td>0.0</td>\n",
              "      <td>0.0</td>\n",
              "      <td>0.0</td>\n",
              "      <td>0.0</td>\n",
              "      <td>0.0</td>\n",
              "      <td>0.0</td>\n",
              "      <td>0.0</td>\n",
              "    </tr>\n",
              "    <tr>\n",
              "      <th>1</th>\n",
              "      <td>CheXpert-v1.0-small/valid/patient64542/study1/...</td>\n",
              "      <td>Male</td>\n",
              "      <td>70</td>\n",
              "      <td>Frontal</td>\n",
              "      <td>PA</td>\n",
              "      <td>0.0</td>\n",
              "      <td>0.0</td>\n",
              "      <td>0.0</td>\n",
              "      <td>0.0</td>\n",
              "      <td>0.0</td>\n",
              "      <td>0.0</td>\n",
              "      <td>0.0</td>\n",
              "      <td>0.0</td>\n",
              "      <td>0.0</td>\n",
              "      <td>0.0</td>\n",
              "      <td>0.0</td>\n",
              "      <td>0.0</td>\n",
              "      <td>0.0</td>\n",
              "      <td>1.0</td>\n",
              "    </tr>\n",
              "    <tr>\n",
              "      <th>2</th>\n",
              "      <td>CheXpert-v1.0-small/valid/patient64542/study1/...</td>\n",
              "      <td>Male</td>\n",
              "      <td>70</td>\n",
              "      <td>Lateral</td>\n",
              "      <td>NaN</td>\n",
              "      <td>0.0</td>\n",
              "      <td>0.0</td>\n",
              "      <td>0.0</td>\n",
              "      <td>0.0</td>\n",
              "      <td>0.0</td>\n",
              "      <td>0.0</td>\n",
              "      <td>0.0</td>\n",
              "      <td>0.0</td>\n",
              "      <td>0.0</td>\n",
              "      <td>0.0</td>\n",
              "      <td>0.0</td>\n",
              "      <td>0.0</td>\n",
              "      <td>0.0</td>\n",
              "      <td>1.0</td>\n",
              "    </tr>\n",
              "    <tr>\n",
              "      <th>3</th>\n",
              "      <td>CheXpert-v1.0-small/valid/patient64543/study1/...</td>\n",
              "      <td>Male</td>\n",
              "      <td>85</td>\n",
              "      <td>Frontal</td>\n",
              "      <td>AP</td>\n",
              "      <td>0.0</td>\n",
              "      <td>1.0</td>\n",
              "      <td>0.0</td>\n",
              "      <td>1.0</td>\n",
              "      <td>0.0</td>\n",
              "      <td>1.0</td>\n",
              "      <td>0.0</td>\n",
              "      <td>0.0</td>\n",
              "      <td>0.0</td>\n",
              "      <td>0.0</td>\n",
              "      <td>0.0</td>\n",
              "      <td>0.0</td>\n",
              "      <td>0.0</td>\n",
              "      <td>0.0</td>\n",
              "    </tr>\n",
              "    <tr>\n",
              "      <th>4</th>\n",
              "      <td>CheXpert-v1.0-small/valid/patient64544/study1/...</td>\n",
              "      <td>Female</td>\n",
              "      <td>42</td>\n",
              "      <td>Frontal</td>\n",
              "      <td>AP</td>\n",
              "      <td>1.0</td>\n",
              "      <td>0.0</td>\n",
              "      <td>0.0</td>\n",
              "      <td>0.0</td>\n",
              "      <td>0.0</td>\n",
              "      <td>0.0</td>\n",
              "      <td>0.0</td>\n",
              "      <td>0.0</td>\n",
              "      <td>0.0</td>\n",
              "      <td>0.0</td>\n",
              "      <td>0.0</td>\n",
              "      <td>0.0</td>\n",
              "      <td>0.0</td>\n",
              "      <td>0.0</td>\n",
              "    </tr>\n",
              "  </tbody>\n",
              "</table>\n",
              "</div>"
            ],
            "text/plain": [
              "                                                Path     Sex  Age  \\\n",
              "0  CheXpert-v1.0-small/valid/patient64541/study1/...    Male   73   \n",
              "1  CheXpert-v1.0-small/valid/patient64542/study1/...    Male   70   \n",
              "2  CheXpert-v1.0-small/valid/patient64542/study1/...    Male   70   \n",
              "3  CheXpert-v1.0-small/valid/patient64543/study1/...    Male   85   \n",
              "4  CheXpert-v1.0-small/valid/patient64544/study1/...  Female   42   \n",
              "\n",
              "  Frontal/Lateral AP/PA  No Finding  Enlarged Cardiomediastinum  Cardiomegaly  \\\n",
              "0         Frontal    AP         0.0                         1.0           1.0   \n",
              "1         Frontal    PA         0.0                         0.0           0.0   \n",
              "2         Lateral   NaN         0.0                         0.0           0.0   \n",
              "3         Frontal    AP         0.0                         1.0           0.0   \n",
              "4         Frontal    AP         1.0                         0.0           0.0   \n",
              "\n",
              "   Lung Opacity  Lung Lesion  Edema  Consolidation  Pneumonia  Atelectasis  \\\n",
              "0           1.0          0.0    0.0            0.0        0.0          0.0   \n",
              "1           0.0          0.0    0.0            0.0        0.0          0.0   \n",
              "2           0.0          0.0    0.0            0.0        0.0          0.0   \n",
              "3           1.0          0.0    1.0            0.0        0.0          0.0   \n",
              "4           0.0          0.0    0.0            0.0        0.0          0.0   \n",
              "\n",
              "   Pneumothorax  Pleural Effusion  Pleural Other  Fracture  Support Devices  \n",
              "0           0.0               0.0            0.0       0.0              0.0  \n",
              "1           0.0               0.0            0.0       0.0              1.0  \n",
              "2           0.0               0.0            0.0       0.0              1.0  \n",
              "3           0.0               0.0            0.0       0.0              0.0  \n",
              "4           0.0               0.0            0.0       0.0              0.0  "
            ]
          },
          "metadata": {
            "tags": []
          },
          "execution_count": 8
        }
      ]
    },
    {
      "cell_type": "code",
      "metadata": {
        "id": "A2_We6Z6Llla",
        "outputId": "96be9dd0-655e-4fe8-91ec-5ee641dc08a9"
      },
      "source": [
        "print('Dimensions of the validation dataset:')\n",
        "valid_data.shape"
      ],
      "execution_count": null,
      "outputs": [
        {
          "output_type": "stream",
          "text": [
            "Dimensions of the validation dataset:\n"
          ],
          "name": "stdout"
        },
        {
          "output_type": "execute_result",
          "data": {
            "text/plain": [
              "(234, 19)"
            ]
          },
          "metadata": {
            "tags": []
          },
          "execution_count": 9
        }
      ]
    },
    {
      "cell_type": "code",
      "metadata": {
        "id": "oG01fbLyLlld",
        "outputId": "ac57027c-0b2d-4210-b6f0-aa34482807c6"
      },
      "source": [
        "print('Combining both training and validation data to perform exploratory data analysis')\n",
        "total_data = pd.concat([train_data, valid_data], ignore_index=True)"
      ],
      "execution_count": null,
      "outputs": [
        {
          "output_type": "stream",
          "text": [
            "Combining both training and validation data to perform exploratory data analysis\n"
          ],
          "name": "stdout"
        }
      ]
    },
    {
      "cell_type": "code",
      "metadata": {
        "id": "dCRtw_BULllf",
        "outputId": "b2b0337a-293d-46dc-f135-6fdbf9725983"
      },
      "source": [
        "print('Combined dataset dimension:')\n",
        "total_data.shape"
      ],
      "execution_count": null,
      "outputs": [
        {
          "output_type": "stream",
          "text": [
            "Combined dataset dimension:\n"
          ],
          "name": "stdout"
        },
        {
          "output_type": "execute_result",
          "data": {
            "text/plain": [
              "(223648, 19)"
            ]
          },
          "metadata": {
            "tags": []
          },
          "execution_count": 11
        }
      ]
    },
    {
      "cell_type": "code",
      "metadata": {
        "id": "M452Z2Q5Llli",
        "outputId": "b8803bdf-e898-4aed-d621-84911c187d14"
      },
      "source": [
        "total_data.head()"
      ],
      "execution_count": null,
      "outputs": [
        {
          "output_type": "execute_result",
          "data": {
            "text/html": [
              "<div>\n",
              "<style scoped>\n",
              "    .dataframe tbody tr th:only-of-type {\n",
              "        vertical-align: middle;\n",
              "    }\n",
              "\n",
              "    .dataframe tbody tr th {\n",
              "        vertical-align: top;\n",
              "    }\n",
              "\n",
              "    .dataframe thead th {\n",
              "        text-align: right;\n",
              "    }\n",
              "</style>\n",
              "<table border=\"1\" class=\"dataframe\">\n",
              "  <thead>\n",
              "    <tr style=\"text-align: right;\">\n",
              "      <th></th>\n",
              "      <th>Path</th>\n",
              "      <th>Sex</th>\n",
              "      <th>Age</th>\n",
              "      <th>Frontal/Lateral</th>\n",
              "      <th>AP/PA</th>\n",
              "      <th>No Finding</th>\n",
              "      <th>Enlarged Cardiomediastinum</th>\n",
              "      <th>Cardiomegaly</th>\n",
              "      <th>Lung Opacity</th>\n",
              "      <th>Lung Lesion</th>\n",
              "      <th>Edema</th>\n",
              "      <th>Consolidation</th>\n",
              "      <th>Pneumonia</th>\n",
              "      <th>Atelectasis</th>\n",
              "      <th>Pneumothorax</th>\n",
              "      <th>Pleural Effusion</th>\n",
              "      <th>Pleural Other</th>\n",
              "      <th>Fracture</th>\n",
              "      <th>Support Devices</th>\n",
              "    </tr>\n",
              "  </thead>\n",
              "  <tbody>\n",
              "    <tr>\n",
              "      <th>0</th>\n",
              "      <td>CheXpert-v1.0-small/train/patient00001/study1/...</td>\n",
              "      <td>Female</td>\n",
              "      <td>68</td>\n",
              "      <td>Frontal</td>\n",
              "      <td>AP</td>\n",
              "      <td>1.0</td>\n",
              "      <td>NaN</td>\n",
              "      <td>NaN</td>\n",
              "      <td>NaN</td>\n",
              "      <td>NaN</td>\n",
              "      <td>NaN</td>\n",
              "      <td>NaN</td>\n",
              "      <td>NaN</td>\n",
              "      <td>NaN</td>\n",
              "      <td>0.0</td>\n",
              "      <td>NaN</td>\n",
              "      <td>NaN</td>\n",
              "      <td>NaN</td>\n",
              "      <td>1.0</td>\n",
              "    </tr>\n",
              "    <tr>\n",
              "      <th>1</th>\n",
              "      <td>CheXpert-v1.0-small/train/patient00002/study2/...</td>\n",
              "      <td>Female</td>\n",
              "      <td>87</td>\n",
              "      <td>Frontal</td>\n",
              "      <td>AP</td>\n",
              "      <td>NaN</td>\n",
              "      <td>NaN</td>\n",
              "      <td>-1.0</td>\n",
              "      <td>1.0</td>\n",
              "      <td>NaN</td>\n",
              "      <td>-1.0</td>\n",
              "      <td>-1.0</td>\n",
              "      <td>NaN</td>\n",
              "      <td>-1.0</td>\n",
              "      <td>NaN</td>\n",
              "      <td>-1.0</td>\n",
              "      <td>NaN</td>\n",
              "      <td>1.0</td>\n",
              "      <td>NaN</td>\n",
              "    </tr>\n",
              "    <tr>\n",
              "      <th>2</th>\n",
              "      <td>CheXpert-v1.0-small/train/patient00002/study1/...</td>\n",
              "      <td>Female</td>\n",
              "      <td>83</td>\n",
              "      <td>Frontal</td>\n",
              "      <td>AP</td>\n",
              "      <td>NaN</td>\n",
              "      <td>NaN</td>\n",
              "      <td>NaN</td>\n",
              "      <td>1.0</td>\n",
              "      <td>NaN</td>\n",
              "      <td>NaN</td>\n",
              "      <td>-1.0</td>\n",
              "      <td>NaN</td>\n",
              "      <td>NaN</td>\n",
              "      <td>NaN</td>\n",
              "      <td>NaN</td>\n",
              "      <td>NaN</td>\n",
              "      <td>1.0</td>\n",
              "      <td>NaN</td>\n",
              "    </tr>\n",
              "    <tr>\n",
              "      <th>3</th>\n",
              "      <td>CheXpert-v1.0-small/train/patient00002/study1/...</td>\n",
              "      <td>Female</td>\n",
              "      <td>83</td>\n",
              "      <td>Lateral</td>\n",
              "      <td>NaN</td>\n",
              "      <td>NaN</td>\n",
              "      <td>NaN</td>\n",
              "      <td>NaN</td>\n",
              "      <td>1.0</td>\n",
              "      <td>NaN</td>\n",
              "      <td>NaN</td>\n",
              "      <td>-1.0</td>\n",
              "      <td>NaN</td>\n",
              "      <td>NaN</td>\n",
              "      <td>NaN</td>\n",
              "      <td>NaN</td>\n",
              "      <td>NaN</td>\n",
              "      <td>1.0</td>\n",
              "      <td>NaN</td>\n",
              "    </tr>\n",
              "    <tr>\n",
              "      <th>4</th>\n",
              "      <td>CheXpert-v1.0-small/train/patient00003/study1/...</td>\n",
              "      <td>Male</td>\n",
              "      <td>41</td>\n",
              "      <td>Frontal</td>\n",
              "      <td>AP</td>\n",
              "      <td>NaN</td>\n",
              "      <td>NaN</td>\n",
              "      <td>NaN</td>\n",
              "      <td>NaN</td>\n",
              "      <td>NaN</td>\n",
              "      <td>1.0</td>\n",
              "      <td>NaN</td>\n",
              "      <td>NaN</td>\n",
              "      <td>NaN</td>\n",
              "      <td>0.0</td>\n",
              "      <td>NaN</td>\n",
              "      <td>NaN</td>\n",
              "      <td>NaN</td>\n",
              "      <td>NaN</td>\n",
              "    </tr>\n",
              "  </tbody>\n",
              "</table>\n",
              "</div>"
            ],
            "text/plain": [
              "                                                Path     Sex  Age  \\\n",
              "0  CheXpert-v1.0-small/train/patient00001/study1/...  Female   68   \n",
              "1  CheXpert-v1.0-small/train/patient00002/study2/...  Female   87   \n",
              "2  CheXpert-v1.0-small/train/patient00002/study1/...  Female   83   \n",
              "3  CheXpert-v1.0-small/train/patient00002/study1/...  Female   83   \n",
              "4  CheXpert-v1.0-small/train/patient00003/study1/...    Male   41   \n",
              "\n",
              "  Frontal/Lateral AP/PA  No Finding  Enlarged Cardiomediastinum  Cardiomegaly  \\\n",
              "0         Frontal    AP         1.0                         NaN           NaN   \n",
              "1         Frontal    AP         NaN                         NaN          -1.0   \n",
              "2         Frontal    AP         NaN                         NaN           NaN   \n",
              "3         Lateral   NaN         NaN                         NaN           NaN   \n",
              "4         Frontal    AP         NaN                         NaN           NaN   \n",
              "\n",
              "   Lung Opacity  Lung Lesion  Edema  Consolidation  Pneumonia  Atelectasis  \\\n",
              "0           NaN          NaN    NaN            NaN        NaN          NaN   \n",
              "1           1.0          NaN   -1.0           -1.0        NaN         -1.0   \n",
              "2           1.0          NaN    NaN           -1.0        NaN          NaN   \n",
              "3           1.0          NaN    NaN           -1.0        NaN          NaN   \n",
              "4           NaN          NaN    1.0            NaN        NaN          NaN   \n",
              "\n",
              "   Pneumothorax  Pleural Effusion  Pleural Other  Fracture  Support Devices  \n",
              "0           0.0               NaN            NaN       NaN              1.0  \n",
              "1           NaN              -1.0            NaN       1.0              NaN  \n",
              "2           NaN               NaN            NaN       1.0              NaN  \n",
              "3           NaN               NaN            NaN       1.0              NaN  \n",
              "4           0.0               NaN            NaN       NaN              NaN  "
            ]
          },
          "metadata": {
            "tags": []
          },
          "execution_count": 12
        }
      ]
    },
    {
      "cell_type": "code",
      "metadata": {
        "id": "vQusedZnLlll",
        "outputId": "7ddedcbb-0aeb-4cdf-fcde-a923d90341bb"
      },
      "source": [
        "display('As mentioned above, there are many null or NaN values for the class labels and many uncertain or -1 labelled classes')"
      ],
      "execution_count": null,
      "outputs": [
        {
          "output_type": "display_data",
          "data": {
            "text/plain": [
              "'As mentioned above, there are many null or NaN values for the class labels and many uncertain or -1 labelled classes'"
            ]
          },
          "metadata": {
            "tags": []
          }
        }
      ]
    },
    {
      "cell_type": "code",
      "metadata": {
        "id": "ma2UKa5ULlln",
        "outputId": "1bcdfea6-6650-4b1c-876a-af45f59e45fb"
      },
      "source": [
        "display('The dataset consists of both frontal and lateral x-ray images and the distribution looks like the following:')\n",
        "print(total_data['Frontal/Lateral'].value_counts())\n",
        "total_data['Frontal/Lateral'].value_counts().plot(kind=\"bar\", color=tuple([\"b\",\"r\"]))"
      ],
      "execution_count": null,
      "outputs": [
        {
          "output_type": "display_data",
          "data": {
            "text/plain": [
              "'The dataset consists of both frontal and lateral x-ray images and the distribution looks like the following:'"
            ]
          },
          "metadata": {
            "tags": []
          }
        },
        {
          "output_type": "stream",
          "text": [
            "Frontal    191229\n",
            "Lateral     32419\n",
            "Name: Frontal/Lateral, dtype: int64\n"
          ],
          "name": "stdout"
        },
        {
          "output_type": "execute_result",
          "data": {
            "text/plain": [
              "<matplotlib.axes._subplots.AxesSubplot at 0x28da38bd748>"
            ]
          },
          "metadata": {
            "tags": []
          },
          "execution_count": 14
        },
        {
          "output_type": "display_data",
          "data": {
            "image/png": "[encoded data removed]",
            "text/plain": [
              "<Figure size 432x288 with 1 Axes>"
            ]
          },
          "metadata": {
            "tags": [],
            "needs_background": "light"
          }
        }
      ]
    },
    {
      "cell_type": "code",
      "metadata": {
        "id": "Xo_bRfJXLllq",
        "outputId": "0477efbf-f063-4c20-ad28-4757062de679"
      },
      "source": [
        "display('The data distribution by gender looks like the following')\n",
        "print(total_data['Sex'].value_counts())\n",
        "total_data['Sex'].value_counts().plot(kind=\"bar\", color=tuple([\"g\",\"y\"]))"
      ],
      "execution_count": null,
      "outputs": [
        {
          "output_type": "display_data",
          "data": {
            "text/plain": [
              "'The data distribution by gender looks like the following'"
            ]
          },
          "metadata": {
            "tags": []
          }
        },
        {
          "output_type": "stream",
          "text": [
            "Male       132764\n",
            "Female      90883\n",
            "Unknown         1\n",
            "Name: Sex, dtype: int64\n"
          ],
          "name": "stdout"
        },
        {
          "output_type": "execute_result",
          "data": {
            "text/plain": [
              "<matplotlib.axes._subplots.AxesSubplot at 0x28da365e9e8>"
            ]
          },
          "metadata": {
            "tags": []
          },
          "execution_count": 15
        },
        {
          "output_type": "display_data",
          "data": {
            "image/png": "[encoded data removed]",
            "text/plain": [
              "<Figure size 432x288 with 1 Axes>"
            ]
          },
          "metadata": {
            "tags": [],
            "needs_background": "light"
          }
        }
      ]
    },
    {
      "cell_type": "code",
      "metadata": {
        "id": "7yp2ZK8-Llls",
        "outputId": "bdaa702d-84f2-4ba5-cf26-f127f9b2f6ca"
      },
      "source": [
        "display('The data distribution across age-group and gender looks like the following:')\n",
        "import matplotlib.pyplot as plt\n",
        "from pylab import rcParams\n",
        "rcParams['figure.figsize'] = 20, 7\n",
        "grouped_by_gender_age = total_data[['Sex','Age']].groupby(['Sex','Age']).size().rename('count').reset_index()\n",
        "\n",
        "ax = grouped_by_gender_age[grouped_by_gender_age['Sex'] == 'Female'].plot.bar(color=tuple([\"g\",\"y\"]), x = 'Age')\n",
        "ax = grouped_by_gender_age[grouped_by_gender_age['Sex'] == 'Male'].plot.bar(color=tuple([\"b\",\"y\"]), x = 'Age')"
      ],
      "execution_count": null,
      "outputs": [
        {
          "output_type": "display_data",
          "data": {
            "text/plain": [
              "'The data distribution across age-group and gender looks like the following:'"
            ]
          },
          "metadata": {
            "tags": []
          }
        },
        {
          "output_type": "display_data",
          "data": {
            "image/png": "[encoded data removed]",
            "text/plain": [
              "<Figure size 1440x504 with 1 Axes>"
            ]
          },
          "metadata": {
            "tags": [],
            "needs_background": "light"
          }
        },
        {
          "output_type": "display_data",
          "data": {
            "image/png": "[encoded data removed]",
            "text/plain": [
              "<Figure size 1440x504 with 1 Axes>"
            ]
          },
          "metadata": {
            "tags": [],
            "needs_background": "light"
          }
        }
      ]
    },
    {
      "cell_type": "code",
      "metadata": {
        "id": "4i28iw-LLllu",
        "outputId": "f9783afa-06e0-448b-a4bf-99224c0f3cd9"
      },
      "source": [
        "display('Combined stacked plot for gender and age-group distribution:')\n",
        "import matplotlib.pyplot as plt\n",
        "from pylab import rcParams\n",
        "rcParams['figure.figsize'] = 20, 7\n",
        "grouped_by_gender_age = total_data[['Sex','Age']].groupby(['Sex','Age']).size().rename('count').reset_index()\n",
        "#grouped_by_gender_age.count().unstack().plot(kind=\"bar\", color=tuple([\"g\",\"y\"]))\n",
        "ages = grouped_by_gender_age.loc[:,['Age']].drop_duplicates()\n",
        "plt.clf()\n",
        "plt.figure(figsize = (20,5))\n",
        "fem = pd.merge(ages, grouped_by_gender_age[grouped_by_gender_age['Sex'] == 'Female'], how='left', on='Age').fillna(0)\n",
        "mal = pd.merge(ages, grouped_by_gender_age[grouped_by_gender_age['Sex'] == 'Male'], how='left', on='Age').fillna(0)\n",
        "fem['Age'] = fem['Age'].astype('str')\n",
        "mal['Age'] = mal['Age'].astype('str')\n",
        "ax1 = plt.bar(fem['Age'], fem['count'])\n",
        "ax2 = plt.bar(mal['Age'], mal['count'], bottom=fem['count'])\n",
        "plt.ylabel('count of images')\n",
        "plt.xlabel('Age')\n",
        "plt.legend((ax1[0], ax2[0]), ('Female', 'Male'))"
      ],
      "execution_count": null,
      "outputs": [
        {
          "output_type": "display_data",
          "data": {
            "text/plain": [
              "'Combined stacked plot for gender and age-group distribution:'"
            ]
          },
          "metadata": {
            "tags": []
          }
        },
        {
          "output_type": "execute_result",
          "data": {
            "text/plain": [
              "<matplotlib.legend.Legend at 0x28d9e802da0>"
            ]
          },
          "metadata": {
            "tags": []
          },
          "execution_count": 17
        },
        {
          "output_type": "display_data",
          "data": {
            "text/plain": [
              "<Figure size 1440x504 with 0 Axes>"
            ]
          },
          "metadata": {
            "tags": []
          }
        },
        {
          "output_type": "display_data",
          "data": {
            "image/png": "[encoded data removed]",
            "text/plain": [
              "<Figure size 1440x360 with 1 Axes>"
            ]
          },
          "metadata": {
            "tags": [],
            "needs_background": "light"
          }
        }
      ]
    },
    {
      "cell_type": "code",
      "metadata": {
        "id": "U5WUUlBSLllw",
        "outputId": "0feb92f7-f1e2-4ca8-bd90-cadbb9db793f"
      },
      "source": [
        "display('The distributon of data per each disease class')\n",
        "total_data.iloc[:,5:].apply(pd.Series.value_counts).transpose()"
      ],
      "execution_count": null,
      "outputs": [
        {
          "output_type": "display_data",
          "data": {
            "text/plain": [
              "'The distributon of data per each disease class'"
            ]
          },
          "metadata": {
            "tags": []
          }
        },
        {
          "output_type": "execute_result",
          "data": {
            "text/html": [
              "<div>\n",
              "<style scoped>\n",
              "    .dataframe tbody tr th:only-of-type {\n",
              "        vertical-align: middle;\n",
              "    }\n",
              "\n",
              "    .dataframe tbody tr th {\n",
              "        vertical-align: top;\n",
              "    }\n",
              "\n",
              "    .dataframe thead th {\n",
              "        text-align: right;\n",
              "    }\n",
              "</style>\n",
              "<table border=\"1\" class=\"dataframe\">\n",
              "  <thead>\n",
              "    <tr style=\"text-align: right;\">\n",
              "      <th></th>\n",
              "      <th>-1.0</th>\n",
              "      <th>0.0</th>\n",
              "      <th>1.0</th>\n",
              "    </tr>\n",
              "  </thead>\n",
              "  <tbody>\n",
              "    <tr>\n",
              "      <th>No Finding</th>\n",
              "      <td>NaN</td>\n",
              "      <td>196.0</td>\n",
              "      <td>22419.0</td>\n",
              "    </tr>\n",
              "    <tr>\n",
              "      <th>Enlarged Cardiomediastinum</th>\n",
              "      <td>12403.0</td>\n",
              "      <td>21763.0</td>\n",
              "      <td>10907.0</td>\n",
              "    </tr>\n",
              "    <tr>\n",
              "      <th>Cardiomegaly</th>\n",
              "      <td>8087.0</td>\n",
              "      <td>11282.0</td>\n",
              "      <td>27068.0</td>\n",
              "    </tr>\n",
              "    <tr>\n",
              "      <th>Lung Opacity</th>\n",
              "      <td>5598.0</td>\n",
              "      <td>6707.0</td>\n",
              "      <td>105707.0</td>\n",
              "    </tr>\n",
              "    <tr>\n",
              "      <th>Lung Lesion</th>\n",
              "      <td>1488.0</td>\n",
              "      <td>1503.0</td>\n",
              "      <td>9187.0</td>\n",
              "    </tr>\n",
              "    <tr>\n",
              "      <th>Edema</th>\n",
              "      <td>12984.0</td>\n",
              "      <td>20915.0</td>\n",
              "      <td>52291.0</td>\n",
              "    </tr>\n",
              "    <tr>\n",
              "      <th>Consolidation</th>\n",
              "      <td>27742.0</td>\n",
              "      <td>28298.0</td>\n",
              "      <td>14816.0</td>\n",
              "    </tr>\n",
              "    <tr>\n",
              "      <th>Pneumonia</th>\n",
              "      <td>18770.0</td>\n",
              "      <td>3025.0</td>\n",
              "      <td>6047.0</td>\n",
              "    </tr>\n",
              "    <tr>\n",
              "      <th>Atelectasis</th>\n",
              "      <td>33739.0</td>\n",
              "      <td>1482.0</td>\n",
              "      <td>33456.0</td>\n",
              "    </tr>\n",
              "    <tr>\n",
              "      <th>Pneumothorax</th>\n",
              "      <td>3145.0</td>\n",
              "      <td>56567.0</td>\n",
              "      <td>19456.0</td>\n",
              "    </tr>\n",
              "    <tr>\n",
              "      <th>Pleural Effusion</th>\n",
              "      <td>11628.0</td>\n",
              "      <td>35563.0</td>\n",
              "      <td>86254.0</td>\n",
              "    </tr>\n",
              "    <tr>\n",
              "      <th>Pleural Other</th>\n",
              "      <td>2653.0</td>\n",
              "      <td>549.0</td>\n",
              "      <td>3524.0</td>\n",
              "    </tr>\n",
              "    <tr>\n",
              "      <th>Fracture</th>\n",
              "      <td>642.0</td>\n",
              "      <td>2746.0</td>\n",
              "      <td>9040.0</td>\n",
              "    </tr>\n",
              "    <tr>\n",
              "      <th>Support Devices</th>\n",
              "      <td>1079.0</td>\n",
              "      <td>6264.0</td>\n",
              "      <td>116108.0</td>\n",
              "    </tr>\n",
              "  </tbody>\n",
              "</table>\n",
              "</div>"
            ],
            "text/plain": [
              "                               -1.0      0.0       1.0\n",
              "No Finding                      NaN    196.0   22419.0\n",
              "Enlarged Cardiomediastinum  12403.0  21763.0   10907.0\n",
              "Cardiomegaly                 8087.0  11282.0   27068.0\n",
              "Lung Opacity                 5598.0   6707.0  105707.0\n",
              "Lung Lesion                  1488.0   1503.0    9187.0\n",
              "Edema                       12984.0  20915.0   52291.0\n",
              "Consolidation               27742.0  28298.0   14816.0\n",
              "Pneumonia                   18770.0   3025.0    6047.0\n",
              "Atelectasis                 33739.0   1482.0   33456.0\n",
              "Pneumothorax                 3145.0  56567.0   19456.0\n",
              "Pleural Effusion            11628.0  35563.0   86254.0\n",
              "Pleural Other                2653.0    549.0    3524.0\n",
              "Fracture                      642.0   2746.0    9040.0\n",
              "Support Devices              1079.0   6264.0  116108.0"
            ]
          },
          "metadata": {
            "tags": []
          },
          "execution_count": 18
        }
      ]
    },
    {
      "cell_type": "code",
      "metadata": {
        "id": "ESgmT1AxLllz",
        "outputId": "9ef2698c-206f-462d-fe9c-07824f45234e"
      },
      "source": [
        "display('The plot for distributon of data per each disease class based on the number of positive, negative and uncertain classes')\n",
        "\n",
        "rcParams['figure.figsize'] = 17, 5\n",
        "total_data.iloc[:,5:].apply(pd.Series.value_counts).transpose().plot.bar(rot=45)"
      ],
      "execution_count": null,
      "outputs": [
        {
          "output_type": "display_data",
          "data": {
            "text/plain": [
              "'The plot for distributon of data per each disease class based on the number of positive, negative and uncertain classes'"
            ]
          },
          "metadata": {
            "tags": []
          }
        },
        {
          "output_type": "execute_result",
          "data": {
            "text/plain": [
              "<matplotlib.axes._subplots.AxesSubplot at 0x28d9ed7dc88>"
            ]
          },
          "metadata": {
            "tags": []
          },
          "execution_count": 20
        },
        {
          "output_type": "display_data",
          "data": {
            "image/png": "[encoded data removed]",
            "text/plain": [
              "<Figure size 1224x360 with 1 Axes>"
            ]
          },
          "metadata": {
            "tags": [],
            "needs_background": "light"
          }
        }
      ]
    },
    {
      "cell_type": "code",
      "metadata": {
        "id": "sDxjc6gyLll0",
        "outputId": "b917d5e7-d5f6-4b0a-a6f0-30c896f0d54b"
      },
      "source": [
        "display('The plot for distributon of data per each disease class')\n",
        "total_data.iloc[:,5:].apply(pd.Series.value_counts).transpose().sum(axis = 1, skipna = True).plot.bar(rot=45)"
      ],
      "execution_count": null,
      "outputs": [
        {
          "output_type": "display_data",
          "data": {
            "text/plain": [
              "'The plot for distributon of data per each disease class'"
            ]
          },
          "metadata": {
            "tags": []
          }
        },
        {
          "output_type": "execute_result",
          "data": {
            "text/plain": [
              "<matplotlib.axes._subplots.AxesSubplot at 0x28d9f386860>"
            ]
          },
          "metadata": {
            "tags": []
          },
          "execution_count": 21
        },
        {
          "output_type": "display_data",
          "data": {
            "image/png": "[encoded data removed]",
            "text/plain": [
              "<Figure size 1224x360 with 1 Axes>"
            ]
          },
          "metadata": {
            "tags": [],
            "needs_background": "light"
          }
        }
      ]
    },
    {
      "cell_type": "markdown",
      "metadata": {
        "id": "ETcnoIw1Lll3"
      },
      "source": [
        "### Section 2 - Modelling Approach\n",
        "\n",
        "**Note : For a detailed modelling approach please refer the individual classwise analysis notebooks under code directory.**\n",
        "\n",
        "The following models were tried:\n",
        "1. LightNet-7 : A 7 layered Deep Neural Network\n",
        "2. DenseNet121 from scratch\n",
        "3. DenseNet121 using pretrained imagenet weights\n",
        "4. Hybrid model with Random Forests (including extended features like Age-group, gender and type of image)\n",
        "5. Hybrid model with AdaBoost (including extended features like Age-group, gender and type of image)\n",
        "6. Hybrid model with XGBoost (including extended features like Age-group, gender and type of image)\n"
      ]
    },
    {
      "cell_type": "markdown",
      "metadata": {
        "id": "TXwbcckpLll4"
      },
      "source": [
        "### Section 3 - Results from the Best Models per disease class"
      ]
    },
    {
      "cell_type": "markdown",
      "metadata": {
        "id": "7-8JqCXrLll4"
      },
      "source": [
        "#### Performance Metrics\n",
        "\n",
        "*Note: Considering the model performance metric considered in most of the research papers, showing the result of the accuracy and AUC-ROC scores for the best models obtained so far. But please refer the detailed code section to see the results for each of the six models tried and other performance metrics like Precision, Recall, F1-Score and Hamming Loss were also calculated based on the model results.*"
      ]
    },
    {
      "cell_type": "code",
      "metadata": {
        "id": "19lEV3lpLll4",
        "outputId": "e8ef771f-a227-4a69-8aa2-53e5c0f14480"
      },
      "source": [
        "# importing necessary python packages\n",
        "\n",
        "import pickle\n",
        "from keras.models import model_from_json\n",
        "from keras.utils import to_categorical\n",
        "from keras.preprocessing import image\n",
        "import matplotlib.pyplot as plt\n",
        "import pandas as pd\n",
        "import seaborn as sns\n",
        "import numpy as np\n",
        "from sklearn import metrics\n",
        "from sklearn.preprocessing import LabelBinarizer\n",
        "import seaborn as sns\n",
        "\n",
        "best_model_path = 'best_model/'"
      ],
      "execution_count": null,
      "outputs": [
        {
          "output_type": "stream",
          "text": [
            "Using TensorFlow backend.\n"
          ],
          "name": "stderr"
        }
      ]
    },
    {
      "cell_type": "code",
      "metadata": {
        "id": "yKr7ZlNvLll6"
      },
      "source": [
        "def multiclass_roc_auc_score(y_test, y_pred, average=\"macro\"):\n",
        "        lb = LabelBinarizer()\n",
        "        lb.fit(y_test)\n",
        "        y_test = lb.transform(y_test)\n",
        "        y_pred = lb.transform(y_pred)\n",
        "        return metrics.roc_auc_score(y_test, y_pred, average=average)\n",
        "        \n",
        "def evaluate_model_performance_valid_data(y_orig, y_pred):\n",
        "        accuracy = metrics.accuracy_score(y_orig, y_pred)\n",
        "        print('Accuracy is:',accuracy)\n",
        "        \n",
        "        # AUC Scores\n",
        "        auc_score = multiclass_roc_auc_score(y_orig, y_pred)\n",
        "        print('AUC score is:', auc_score)\n",
        "\n",
        "        cm = metrics.confusion_matrix(y_orig.argmax(axis=1), y_pred.argmax(axis=1))\n",
        "        print(cm)\n",
        "\n",
        "        plt.figure(figsize=(5,5))\n",
        "        sns.heatmap(cm, annot=True, fmt=\".2f\", linewidths=.5, square = True, cmap = 'Blues');\n",
        "        plt.ylabel('Actual label');\n",
        "        plt.xlabel('Predicted label');\n",
        "        all_sample_title = 'Accuracy Score: {0}'.format(accuracy)\n",
        "        plt.title(all_sample_title, size = 12)"
      ],
      "execution_count": null,
      "outputs": []
    },
    {
      "cell_type": "markdown",
      "metadata": {
        "id": "AixkvHqELll8"
      },
      "source": [
        "#### Model Performance on Valid Data-set"
      ]
    },
    {
      "cell_type": "code",
      "metadata": {
        "id": "fBf1TXTnLll9",
        "outputId": "be28c29e-41df-44fe-9809-c4d322213d5c"
      },
      "source": [
        "display('Loading validation data-set to validate model performance')\n",
        "\n",
        "path = ''\n",
        "valid_data = pd.read_csv(path + 'data/valid.csv')\n",
        "valid_data.columns\n",
        "\n",
        "orig_path = 'CheXpert-v1.0-small'\n",
        "opath_len = len(orig_path)\n",
        "test_image = []\n",
        "for image_path in valid_data['Path']:\n",
        "    img = image.load_img('data' + image_path[opath_len:],target_size=(250,250,3))\n",
        "    img = image.img_to_array(img)\n",
        "    img = img/255\n",
        "    test_image.append(img)\n",
        "\n",
        "\n",
        "test_data = np.array(test_image)"
      ],
      "execution_count": null,
      "outputs": [
        {
          "output_type": "display_data",
          "data": {
            "text/plain": [
              "'Loading validation data-set to validate model performance'"
            ]
          },
          "metadata": {
            "tags": []
          }
        }
      ]
    },
    {
      "cell_type": "markdown",
      "metadata": {
        "id": "Y5k9K6VBLll-"
      },
      "source": [
        "**Necessary pre-processing steps needs to be repeated as done during training phase**"
      ]
    },
    {
      "cell_type": "code",
      "metadata": {
        "id": "GKmb1bPcLll_",
        "outputId": "948d8c2c-207b-48bf-cea7-608997695ffc"
      },
      "source": [
        "features_transformation = {\"Sex\":     {\"Male\": 0, \"Female\": 1},\n",
        "                            \"Frontal/Lateral\": {\"Frontal\": 0, \"Lateral\": 1}}\n",
        "\n",
        "valid_data.replace(features_transformation, inplace=True)\n",
        "valid_data.head()"
      ],
      "execution_count": null,
      "outputs": [
        {
          "output_type": "execute_result",
          "data": {
            "text/html": [
              "<div>\n",
              "<style scoped>\n",
              "    .dataframe tbody tr th:only-of-type {\n",
              "        vertical-align: middle;\n",
              "    }\n",
              "\n",
              "    .dataframe tbody tr th {\n",
              "        vertical-align: top;\n",
              "    }\n",
              "\n",
              "    .dataframe thead th {\n",
              "        text-align: right;\n",
              "    }\n",
              "</style>\n",
              "<table border=\"1\" class=\"dataframe\">\n",
              "  <thead>\n",
              "    <tr style=\"text-align: right;\">\n",
              "      <th></th>\n",
              "      <th>Path</th>\n",
              "      <th>Sex</th>\n",
              "      <th>Age</th>\n",
              "      <th>Frontal/Lateral</th>\n",
              "      <th>AP/PA</th>\n",
              "      <th>No Finding</th>\n",
              "      <th>Enlarged Cardiomediastinum</th>\n",
              "      <th>Cardiomegaly</th>\n",
              "      <th>Lung Opacity</th>\n",
              "      <th>Lung Lesion</th>\n",
              "      <th>Edema</th>\n",
              "      <th>Consolidation</th>\n",
              "      <th>Pneumonia</th>\n",
              "      <th>Atelectasis</th>\n",
              "      <th>Pneumothorax</th>\n",
              "      <th>Pleural Effusion</th>\n",
              "      <th>Pleural Other</th>\n",
              "      <th>Fracture</th>\n",
              "      <th>Support Devices</th>\n",
              "    </tr>\n",
              "  </thead>\n",
              "  <tbody>\n",
              "    <tr>\n",
              "      <th>0</th>\n",
              "      <td>CheXpert-v1.0-small/valid/patient64541/study1/...</td>\n",
              "      <td>0</td>\n",
              "      <td>73</td>\n",
              "      <td>0</td>\n",
              "      <td>AP</td>\n",
              "      <td>0.0</td>\n",
              "      <td>1.0</td>\n",
              "      <td>1.0</td>\n",
              "      <td>1.0</td>\n",
              "      <td>0.0</td>\n",
              "      <td>0.0</td>\n",
              "      <td>0.0</td>\n",
              "      <td>0.0</td>\n",
              "      <td>0.0</td>\n",
              "      <td>0.0</td>\n",
              "      <td>0.0</td>\n",
              "      <td>0.0</td>\n",
              "      <td>0.0</td>\n",
              "      <td>0.0</td>\n",
              "    </tr>\n",
              "    <tr>\n",
              "      <th>1</th>\n",
              "      <td>CheXpert-v1.0-small/valid/patient64542/study1/...</td>\n",
              "      <td>0</td>\n",
              "      <td>70</td>\n",
              "      <td>0</td>\n",
              "      <td>PA</td>\n",
              "      <td>0.0</td>\n",
              "      <td>0.0</td>\n",
              "      <td>0.0</td>\n",
              "      <td>0.0</td>\n",
              "      <td>0.0</td>\n",
              "      <td>0.0</td>\n",
              "      <td>0.0</td>\n",
              "      <td>0.0</td>\n",
              "      <td>0.0</td>\n",
              "      <td>0.0</td>\n",
              "      <td>0.0</td>\n",
              "      <td>0.0</td>\n",
              "      <td>0.0</td>\n",
              "      <td>1.0</td>\n",
              "    </tr>\n",
              "    <tr>\n",
              "      <th>2</th>\n",
              "      <td>CheXpert-v1.0-small/valid/patient64542/study1/...</td>\n",
              "      <td>0</td>\n",
              "      <td>70</td>\n",
              "      <td>1</td>\n",
              "      <td>NaN</td>\n",
              "      <td>0.0</td>\n",
              "      <td>0.0</td>\n",
              "      <td>0.0</td>\n",
              "      <td>0.0</td>\n",
              "      <td>0.0</td>\n",
              "      <td>0.0</td>\n",
              "      <td>0.0</td>\n",
              "      <td>0.0</td>\n",
              "      <td>0.0</td>\n",
              "      <td>0.0</td>\n",
              "      <td>0.0</td>\n",
              "      <td>0.0</td>\n",
              "      <td>0.0</td>\n",
              "      <td>1.0</td>\n",
              "    </tr>\n",
              "    <tr>\n",
              "      <th>3</th>\n",
              "      <td>CheXpert-v1.0-small/valid/patient64543/study1/...</td>\n",
              "      <td>0</td>\n",
              "      <td>85</td>\n",
              "      <td>0</td>\n",
              "      <td>AP</td>\n",
              "      <td>0.0</td>\n",
              "      <td>1.0</td>\n",
              "      <td>0.0</td>\n",
              "      <td>1.0</td>\n",
              "      <td>0.0</td>\n",
              "      <td>1.0</td>\n",
              "      <td>0.0</td>\n",
              "      <td>0.0</td>\n",
              "      <td>0.0</td>\n",
              "      <td>0.0</td>\n",
              "      <td>0.0</td>\n",
              "      <td>0.0</td>\n",
              "      <td>0.0</td>\n",
              "      <td>0.0</td>\n",
              "    </tr>\n",
              "    <tr>\n",
              "      <th>4</th>\n",
              "      <td>CheXpert-v1.0-small/valid/patient64544/study1/...</td>\n",
              "      <td>1</td>\n",
              "      <td>42</td>\n",
              "      <td>0</td>\n",
              "      <td>AP</td>\n",
              "      <td>1.0</td>\n",
              "      <td>0.0</td>\n",
              "      <td>0.0</td>\n",
              "      <td>0.0</td>\n",
              "      <td>0.0</td>\n",
              "      <td>0.0</td>\n",
              "      <td>0.0</td>\n",
              "      <td>0.0</td>\n",
              "      <td>0.0</td>\n",
              "      <td>0.0</td>\n",
              "      <td>0.0</td>\n",
              "      <td>0.0</td>\n",
              "      <td>0.0</td>\n",
              "      <td>0.0</td>\n",
              "    </tr>\n",
              "  </tbody>\n",
              "</table>\n",
              "</div>"
            ],
            "text/plain": [
              "                                                Path  Sex  Age  \\\n",
              "0  CheXpert-v1.0-small/valid/patient64541/study1/...    0   73   \n",
              "1  CheXpert-v1.0-small/valid/patient64542/study1/...    0   70   \n",
              "2  CheXpert-v1.0-small/valid/patient64542/study1/...    0   70   \n",
              "3  CheXpert-v1.0-small/valid/patient64543/study1/...    0   85   \n",
              "4  CheXpert-v1.0-small/valid/patient64544/study1/...    1   42   \n",
              "\n",
              "   Frontal/Lateral AP/PA  No Finding  Enlarged Cardiomediastinum  \\\n",
              "0                0    AP         0.0                         1.0   \n",
              "1                0    PA         0.0                         0.0   \n",
              "2                1   NaN         0.0                         0.0   \n",
              "3                0    AP         0.0                         1.0   \n",
              "4                0    AP         1.0                         0.0   \n",
              "\n",
              "   Cardiomegaly  Lung Opacity  Lung Lesion  Edema  Consolidation  Pneumonia  \\\n",
              "0           1.0           1.0          0.0    0.0            0.0        0.0   \n",
              "1           0.0           0.0          0.0    0.0            0.0        0.0   \n",
              "2           0.0           0.0          0.0    0.0            0.0        0.0   \n",
              "3           0.0           1.0          0.0    1.0            0.0        0.0   \n",
              "4           0.0           0.0          0.0    0.0            0.0        0.0   \n",
              "\n",
              "   Atelectasis  Pneumothorax  Pleural Effusion  Pleural Other  Fracture  \\\n",
              "0          0.0           0.0               0.0            0.0       0.0   \n",
              "1          0.0           0.0               0.0            0.0       0.0   \n",
              "2          0.0           0.0               0.0            0.0       0.0   \n",
              "3          0.0           0.0               0.0            0.0       0.0   \n",
              "4          0.0           0.0               0.0            0.0       0.0   \n",
              "\n",
              "   Support Devices  \n",
              "0              0.0  \n",
              "1              1.0  \n",
              "2              1.0  \n",
              "3              0.0  \n",
              "4              0.0  "
            ]
          },
          "metadata": {
            "tags": []
          },
          "execution_count": 4
        }
      ]
    },
    {
      "cell_type": "code",
      "metadata": {
        "id": "o7y4hAweLlmB"
      },
      "source": [
        "summary_result = []"
      ],
      "execution_count": null,
      "outputs": []
    },
    {
      "cell_type": "code",
      "metadata": {
        "id": "9QCFukqCLlmD"
      },
      "source": [
        "added_test_features = []\n",
        "for ind in valid_data.index:\n",
        "    added_test_features.append([valid_data['Sex'][ind],valid_data['Age'][ind]/100, valid_data['Frontal/Lateral'][ind]])\n",
        "    \n",
        "test_f_array = np.array(added_test_features)\n",
        "test_label = np.array(valid_data.drop(['Path', 'Sex', 'Age', 'Frontal/Lateral', 'AP/PA'],axis=1).fillna(0))"
      ],
      "execution_count": null,
      "outputs": []
    },
    {
      "cell_type": "markdown",
      "metadata": {
        "id": "FwK-nNTGLlmE"
      },
      "source": [
        "### Individual Class-wise Analysis Results:"
      ]
    },
    {
      "cell_type": "markdown",
      "metadata": {
        "id": "l-X2Oz3DLlmF"
      },
      "source": [
        "#### Class - 'No Finding'\n",
        "\n",
        "Best Model - LightNet-7\n",
        "\n",
        "Accuracy - 84%\n",
        "\n",
        "AUC-ROC Score - 0.5"
      ]
    },
    {
      "cell_type": "code",
      "metadata": {
        "id": "UDJ9chJqLlmF",
        "outputId": "7ec1f25d-dfbe-4020-8777-13313c13e8ef"
      },
      "source": [
        "disease_class_num = 0\n",
        "ec_test_label = test_label[:,disease_class_num:disease_class_num+1]\n",
        "print(valid_data.columns[5+disease_class_num:6+disease_class_num])\n",
        "print(ec_test_label.shape)\n",
        "print(np.unique(ec_test_label, return_counts=True))\n",
        "display('Taking a look at the valid data distribution')"
      ],
      "execution_count": null,
      "outputs": [
        {
          "output_type": "stream",
          "text": [
            "Index(['No Finding'], dtype='object')\n",
            "(234, 1)\n",
            "(array([0., 1.]), array([196,  38], dtype=int64))\n"
          ],
          "name": "stdout"
        },
        {
          "output_type": "display_data",
          "data": {
            "text/plain": [
              "'Taking a look at the valid data distribution'"
            ]
          },
          "metadata": {
            "tags": []
          }
        }
      ]
    },
    {
      "cell_type": "code",
      "metadata": {
        "id": "ecDr5IRgLlmI"
      },
      "source": [
        "summary_result.append(['No Finding',84,0.5,'LightNet-7'])"
      ],
      "execution_count": null,
      "outputs": []
    },
    {
      "cell_type": "code",
      "metadata": {
        "id": "CpYTDZB9LlmK",
        "outputId": "c2bf3ce6-d406-428a-8b07-0b3d01420c7d"
      },
      "source": [
        "y_orig = to_categorical(ec_test_label.ravel())\n",
        "\n",
        "loaded_model =  pickle.load(open(best_model_path + 'no_finding_LN.pkl', 'rb'))\n",
        "\n",
        "display('For LightNet-7')\n",
        "pred = loaded_model.predict(test_data)\n",
        "y_pred = np.where(pred < 0.5, 1.0, 0.0)\n",
        "evaluate_model_performance_valid_data(y_orig, y_pred)"
      ],
      "execution_count": null,
      "outputs": [
        {
          "output_type": "display_data",
          "data": {
            "text/plain": [
              "'For LightNet-7'"
            ]
          },
          "metadata": {
            "tags": []
          }
        },
        {
          "output_type": "stream",
          "text": [
            "Accuracy is: 0.8376068376068376\n",
            "AUC score is: 0.5\n",
            "[[196   0]\n",
            " [ 38   0]]\n"
          ],
          "name": "stdout"
        },
        {
          "output_type": "display_data",
          "data": {
            "image/png": "[encoded data removed]",
            "text/plain": [
              "<Figure size 360x360 with 2 Axes>"
            ]
          },
          "metadata": {
            "tags": [],
            "needs_background": "light"
          }
        }
      ]
    },
    {
      "cell_type": "markdown",
      "metadata": {
        "id": "y1SaBm7aLlmM"
      },
      "source": [
        "#### Class - 'Enlarged Cardiomediastinum'\n",
        "\n",
        "Best Model - LightNet-7\n",
        "\n",
        "Accuracy - 79%\n",
        "\n",
        "AUC-ROC Score - 0.79"
      ]
    },
    {
      "cell_type": "code",
      "metadata": {
        "id": "cyei63UwLlmN",
        "outputId": "6d5f1271-1e9d-4dc9-cdce-e262fc0e9d75"
      },
      "source": [
        "disease_class_num = 1\n",
        "ec_test_label = test_label[:,disease_class_num:disease_class_num+1]\n",
        "print(valid_data.columns[5+disease_class_num:6+disease_class_num])\n",
        "print(ec_test_label.shape)\n",
        "print(np.unique(ec_test_label, return_counts=True))\n",
        "display('Taking a look at the valid data distribution')"
      ],
      "execution_count": null,
      "outputs": [
        {
          "output_type": "stream",
          "text": [
            "Index(['Enlarged Cardiomediastinum'], dtype='object')\n",
            "(234, 1)\n",
            "(array([0., 1.]), array([125, 109], dtype=int64))\n"
          ],
          "name": "stdout"
        },
        {
          "output_type": "display_data",
          "data": {
            "text/plain": [
              "'Taking a look at the valid data distribution'"
            ]
          },
          "metadata": {
            "tags": []
          }
        }
      ]
    },
    {
      "cell_type": "code",
      "metadata": {
        "id": "KhNewpfFLlmO"
      },
      "source": [
        "summary_result.append(['Enlarged Cardiomediastinum',79,0.79,'LightNet-7'])"
      ],
      "execution_count": null,
      "outputs": []
    },
    {
      "cell_type": "code",
      "metadata": {
        "id": "ONHKJ1WxLlmQ",
        "outputId": "ebc72904-3c6b-43c9-b181-8669fcb98b11"
      },
      "source": [
        "y_orig = to_categorical(ec_test_label.ravel())\n",
        "\n",
        "loaded_model =  pickle.load(open(best_model_path + 'enlarged_cardiomediastinum_LN.pkl', 'rb'))\n",
        "\n",
        "display('For LightNet-7')\n",
        "pred = loaded_model.predict(test_data)\n",
        "y_pred = np.where(pred > 0.5, 1.0, 0.0)\n",
        "evaluate_model_performance_valid_data(y_orig, y_pred)"
      ],
      "execution_count": null,
      "outputs": [
        {
          "output_type": "display_data",
          "data": {
            "text/plain": [
              "'For LightNet-7'"
            ]
          },
          "metadata": {
            "tags": []
          }
        },
        {
          "output_type": "stream",
          "text": [
            "Accuracy is: 0.7905982905982906\n",
            "AUC score is: 0.7928440366972477\n",
            "[[95 30]\n",
            " [19 90]]\n"
          ],
          "name": "stdout"
        },
        {
          "output_type": "display_data",
          "data": {
            "image/png": "[encoded data removed]",
            "text/plain": [
              "<Figure size 360x360 with 2 Axes>"
            ]
          },
          "metadata": {
            "tags": [],
            "needs_background": "light"
          }
        }
      ]
    },
    {
      "cell_type": "markdown",
      "metadata": {
        "id": "ib4OrKanLlmT"
      },
      "source": [
        "#### Class - 'Cardiomegaly'\n",
        "\n",
        "Best Model - LightNet-7\n",
        "\n",
        "Accuracy - 74%\n",
        "\n",
        "AUC-ROC Score - 0.71"
      ]
    },
    {
      "cell_type": "code",
      "metadata": {
        "id": "YZfIwPCJLlmT",
        "outputId": "05ff908e-2149-4759-fccc-4040953de868"
      },
      "source": [
        "disease_class_num = 2\n",
        "ec_test_label = test_label[:,disease_class_num:disease_class_num+1]\n",
        "print(valid_data.columns[5+disease_class_num:6+disease_class_num])\n",
        "print(ec_test_label.shape)\n",
        "print(np.unique(ec_test_label, return_counts=True))\n",
        "display('Taking a look at the valid data distribution')"
      ],
      "execution_count": null,
      "outputs": [
        {
          "output_type": "stream",
          "text": [
            "Index(['Cardiomegaly'], dtype='object')\n",
            "(234, 1)\n",
            "(array([0., 1.]), array([166,  68], dtype=int64))\n"
          ],
          "name": "stdout"
        },
        {
          "output_type": "display_data",
          "data": {
            "text/plain": [
              "'Taking a look at the valid data distribution'"
            ]
          },
          "metadata": {
            "tags": []
          }
        }
      ]
    },
    {
      "cell_type": "code",
      "metadata": {
        "id": "Hp5gmYzgLlmV"
      },
      "source": [
        "summary_result.append(['Cardiomegaly',74,0.71,'LightNet-7'])"
      ],
      "execution_count": null,
      "outputs": []
    },
    {
      "cell_type": "code",
      "metadata": {
        "id": "10MUywJvLlmX",
        "outputId": "400a78a2-2df6-433a-8cbd-7a875e8f1f6e"
      },
      "source": [
        "y_orig = to_categorical(ec_test_label.ravel())\n",
        "\n",
        "loaded_model =  pickle.load(open(best_model_path + 'cardiomegaly_LN.pkl', 'rb'))\n",
        "\n",
        "display('For LightNet-7')\n",
        "pred = loaded_model.predict(test_data)\n",
        "y_pred = np.where(pred > 0.5, 1.0, 0.0)\n",
        "evaluate_model_performance_valid_data(y_orig, y_pred)"
      ],
      "execution_count": null,
      "outputs": [
        {
          "output_type": "display_data",
          "data": {
            "text/plain": [
              "'For LightNet-7'"
            ]
          },
          "metadata": {
            "tags": []
          }
        },
        {
          "output_type": "stream",
          "text": [
            "Accuracy is: 0.7393162393162394\n",
            "AUC score is: 0.7034018426647768\n",
            "[[131  35]\n",
            " [ 26  42]]\n"
          ],
          "name": "stdout"
        },
        {
          "output_type": "display_data",
          "data": {
            "image/png": "[encoded data removed]",
            "text/plain": [
              "<Figure size 360x360 with 2 Axes>"
            ]
          },
          "metadata": {
            "tags": [],
            "needs_background": "light"
          }
        }
      ]
    },
    {
      "cell_type": "markdown",
      "metadata": {
        "id": "N4_-qrOHLlmZ"
      },
      "source": [
        "#### Class - 'Lung Opacity'\n",
        "\n",
        "Best Model - LightNet-7\n",
        "\n",
        "Accuracy - 72%\n",
        "\n",
        "AUC-ROC Score - 0.72"
      ]
    },
    {
      "cell_type": "code",
      "metadata": {
        "id": "ywweFXd7LlmZ",
        "outputId": "413932b6-082d-48eb-b864-ea464b995c5d"
      },
      "source": [
        "disease_class_num = 3\n",
        "ec_test_label = test_label[:,disease_class_num:disease_class_num+1]\n",
        "print(valid_data.columns[5+disease_class_num:6+disease_class_num])\n",
        "print(ec_test_label.shape)\n",
        "print(np.unique(ec_test_label, return_counts=True))\n",
        "display('Taking a look at the valid data distribution')"
      ],
      "execution_count": null,
      "outputs": [
        {
          "output_type": "stream",
          "text": [
            "Index(['Lung Opacity'], dtype='object')\n",
            "(234, 1)\n",
            "(array([0., 1.]), array([108, 126], dtype=int64))\n"
          ],
          "name": "stdout"
        },
        {
          "output_type": "display_data",
          "data": {
            "text/plain": [
              "'Taking a look at the valid data distribution'"
            ]
          },
          "metadata": {
            "tags": []
          }
        }
      ]
    },
    {
      "cell_type": "code",
      "metadata": {
        "id": "nMonvEAoLlmc"
      },
      "source": [
        "summary_result.append(['Lung Opacity',72,0.72,'LightNet-7'])"
      ],
      "execution_count": null,
      "outputs": []
    },
    {
      "cell_type": "code",
      "metadata": {
        "id": "Zmf9UwTiLlme",
        "outputId": "6b4ae77e-bcd4-4680-c19c-00f7305b8ca3"
      },
      "source": [
        "y_orig = to_categorical(ec_test_label.ravel())\n",
        "\n",
        "loaded_model =  pickle.load(open(best_model_path + 'lung_opacity_LN.pkl', 'rb'))\n",
        "\n",
        "display('For LightNet-7')\n",
        "pred = loaded_model.predict(test_data)\n",
        "y_pred = np.where(pred > 0.5, 1.0, 0.0)\n",
        "evaluate_model_performance_valid_data(y_orig, y_pred)"
      ],
      "execution_count": null,
      "outputs": [
        {
          "output_type": "display_data",
          "data": {
            "text/plain": [
              "'For LightNet-7'"
            ]
          },
          "metadata": {
            "tags": []
          }
        },
        {
          "output_type": "stream",
          "text": [
            "Accuracy is: 0.7136752136752137\n",
            "AUC score is: 0.7169312169312171\n",
            "[[82 26]\n",
            " [41 85]]\n"
          ],
          "name": "stdout"
        },
        {
          "output_type": "display_data",
          "data": {
            "image/png": "[encoded data removed]",
            "text/plain": [
              "<Figure size 360x360 with 2 Axes>"
            ]
          },
          "metadata": {
            "tags": [],
            "needs_background": "light"
          }
        }
      ]
    },
    {
      "cell_type": "markdown",
      "metadata": {
        "id": "_3PWN3SpLlmh"
      },
      "source": [
        "#### Class - 'Lung Lesion'\n",
        "\n",
        "Best Model - DenseNet121\n",
        "\n",
        "Accuracy - 47%\n",
        "\n",
        "AUC-ROC Score - 0.74"
      ]
    },
    {
      "cell_type": "code",
      "metadata": {
        "id": "dR5vz42CLlmh",
        "outputId": "7a050369-27cd-488e-abfb-b83ea51dda8c"
      },
      "source": [
        "disease_class_num = 4\n",
        "ec_test_label = test_label[:,disease_class_num:disease_class_num+1]\n",
        "print(valid_data.columns[5+disease_class_num:6+disease_class_num])\n",
        "print(ec_test_label.shape)\n",
        "print(np.unique(ec_test_label, return_counts=True))\n",
        "display('Taking a look at the valid data distribution')"
      ],
      "execution_count": null,
      "outputs": [
        {
          "output_type": "stream",
          "text": [
            "Index(['Lung Lesion'], dtype='object')\n",
            "(234, 1)\n",
            "(array([0., 1.]), array([233,   1], dtype=int64))\n"
          ],
          "name": "stdout"
        },
        {
          "output_type": "display_data",
          "data": {
            "text/plain": [
              "'Taking a look at the valid data distribution'"
            ]
          },
          "metadata": {
            "tags": []
          }
        }
      ]
    },
    {
      "cell_type": "code",
      "metadata": {
        "id": "xSxYJEoyLlmj"
      },
      "source": [
        "summary_result.append(['Lung Lesion',47,0.74,'DenseNet-121'])"
      ],
      "execution_count": null,
      "outputs": []
    },
    {
      "cell_type": "code",
      "metadata": {
        "id": "5_f40UDLLlmk",
        "outputId": "84d9bc78-87d9-40f1-d146-166f2d9516fd"
      },
      "source": [
        "y_orig = to_categorical(ec_test_label.ravel())\n",
        "\n",
        "loaded_model =  pickle.load(open(best_model_path + 'lung_lesion_DN.pkl', 'rb'))\n",
        "\n",
        "display('For DenseNet121')\n",
        "pred = loaded_model.predict(test_data)\n",
        "y_pred = np.where(pred > 0.5, 1.0, 0.0)\n",
        "evaluate_model_performance_valid_data(y_orig, y_pred)"
      ],
      "execution_count": null,
      "outputs": [
        {
          "output_type": "display_data",
          "data": {
            "text/plain": [
              "'For DenseNet121'"
            ]
          },
          "metadata": {
            "tags": []
          }
        },
        {
          "output_type": "stream",
          "text": [
            "Accuracy is: 0.4658119658119658\n",
            "AUC score is: 0.7317596566523605\n",
            "[[108 125]\n",
            " [  0   1]]\n"
          ],
          "name": "stdout"
        },
        {
          "output_type": "display_data",
          "data": {
            "image/png": "[encoded data removed]",
            "text/plain": [
              "<Figure size 360x360 with 2 Axes>"
            ]
          },
          "metadata": {
            "tags": [],
            "needs_background": "light"
          }
        }
      ]
    },
    {
      "cell_type": "markdown",
      "metadata": {
        "id": "06MUyNS5Llmm"
      },
      "source": [
        "#### Class - 'Edema'\n",
        "\n",
        "Best Model - LightNet-7\n",
        "\n",
        "Accuracy - 79%\n",
        "\n",
        "AUC-ROC Score - 0.77"
      ]
    },
    {
      "cell_type": "code",
      "metadata": {
        "id": "qyAKUKIlLlmn",
        "outputId": "d2c0e18d-6469-4cf4-f4c1-7ef29b84e3df"
      },
      "source": [
        "disease_class_num = 5\n",
        "ec_test_label = test_label[:,disease_class_num:disease_class_num+1]\n",
        "print(valid_data.columns[5+disease_class_num:6+disease_class_num])\n",
        "print(ec_test_label.shape)\n",
        "print(np.unique(ec_test_label, return_counts=True))\n",
        "display('Taking a look at the valid data distribution')"
      ],
      "execution_count": null,
      "outputs": [
        {
          "output_type": "stream",
          "text": [
            "Index(['Edema'], dtype='object')\n",
            "(234, 1)\n",
            "(array([0., 1.]), array([189,  45], dtype=int64))\n"
          ],
          "name": "stdout"
        },
        {
          "output_type": "display_data",
          "data": {
            "text/plain": [
              "'Taking a look at the valid data distribution'"
            ]
          },
          "metadata": {
            "tags": []
          }
        }
      ]
    },
    {
      "cell_type": "code",
      "metadata": {
        "id": "JfR_duLBLlmp"
      },
      "source": [
        "summary_result.append(['Edema',79,0.77,'LightNet-7'])"
      ],
      "execution_count": null,
      "outputs": []
    },
    {
      "cell_type": "code",
      "metadata": {
        "id": "bwQcb6Q4Llmr",
        "outputId": "4b55f590-532e-4824-eb0a-ae30d7e37aea"
      },
      "source": [
        "y_orig = to_categorical(ec_test_label.ravel())\n",
        "\n",
        "loaded_model =  pickle.load(open(best_model_path + 'edema_LN.pkl', 'rb'))\n",
        "\n",
        "display('For LightNet-7')\n",
        "pred = loaded_model.predict(test_data)\n",
        "y_pred = np.where(pred > 0.5, 1.0, 0.0)\n",
        "evaluate_model_performance_valid_data(y_orig, y_pred)"
      ],
      "execution_count": null,
      "outputs": [
        {
          "output_type": "display_data",
          "data": {
            "text/plain": [
              "'For LightNet-7'"
            ]
          },
          "metadata": {
            "tags": []
          }
        },
        {
          "output_type": "stream",
          "text": [
            "Accuracy is: 0.7863247863247863\n",
            "AUC score is: 0.7661375661375662\n",
            "[[151  38]\n",
            " [ 12  33]]\n"
          ],
          "name": "stdout"
        },
        {
          "output_type": "display_data",
          "data": {
            "image/png": "[encoded data removed]",
            "text/plain": [
              "<Figure size 360x360 with 2 Axes>"
            ]
          },
          "metadata": {
            "tags": [],
            "needs_background": "light"
          }
        }
      ]
    },
    {
      "cell_type": "markdown",
      "metadata": {
        "id": "bTTEnU3JLlmu"
      },
      "source": [
        "#### Class - 'Consolidation'\n",
        "\n",
        "Best Model - LightNet-7\n",
        "\n",
        "Accuracy - 68%\n",
        "\n",
        "AUC-ROC Score - 0.81"
      ]
    },
    {
      "cell_type": "code",
      "metadata": {
        "id": "RbG_KOvfLlmu",
        "outputId": "cc7fb549-8148-457a-a548-b51222ec89ab"
      },
      "source": [
        "disease_class_num = 6\n",
        "ec_test_label = test_label[:,disease_class_num:disease_class_num+1]\n",
        "print(valid_data.columns[5+disease_class_num:6+disease_class_num])\n",
        "print(ec_test_label.shape)\n",
        "print(np.unique(ec_test_label, return_counts=True))\n",
        "display('Taking a look at the valid data distribution')"
      ],
      "execution_count": null,
      "outputs": [
        {
          "output_type": "stream",
          "text": [
            "Index(['Consolidation'], dtype='object')\n",
            "(234, 1)\n",
            "(array([0., 1.]), array([201,  33], dtype=int64))\n"
          ],
          "name": "stdout"
        },
        {
          "output_type": "display_data",
          "data": {
            "text/plain": [
              "'Taking a look at the valid data distribution'"
            ]
          },
          "metadata": {
            "tags": []
          }
        }
      ]
    },
    {
      "cell_type": "code",
      "metadata": {
        "id": "f8lsi3mKLlmw"
      },
      "source": [
        "summary_result.append(['Consolidation',68,0.81,'LightNet-7'])"
      ],
      "execution_count": null,
      "outputs": []
    },
    {
      "cell_type": "code",
      "metadata": {
        "id": "G6gbJ2clLlmy",
        "outputId": "efe412ca-010e-4772-9aec-0956c69d3c7b"
      },
      "source": [
        "y_orig = to_categorical(ec_test_label.ravel())\n",
        "\n",
        "loaded_model =  pickle.load(open(best_model_path + 'consolidation_LN.pkl', 'rb'))\n",
        "\n",
        "display('For LightNet-7')\n",
        "pred = loaded_model.predict(test_data)\n",
        "y_pred = np.where(pred > 0.5, 1.0, 0.0)\n",
        "evaluate_model_performance_valid_data(y_orig, y_pred)"
      ],
      "execution_count": null,
      "outputs": [
        {
          "output_type": "display_data",
          "data": {
            "text/plain": [
              "'For LightNet-7'"
            ]
          },
          "metadata": {
            "tags": []
          }
        },
        {
          "output_type": "stream",
          "text": [
            "Accuracy is: 0.6794871794871795\n",
            "AUC score is: 0.8007688828584352\n",
            "[[127  74]\n",
            " [  1  32]]\n"
          ],
          "name": "stdout"
        },
        {
          "output_type": "display_data",
          "data": {
            "image/png": "[encoded data removed]",
            "text/plain": [
              "<Figure size 360x360 with 2 Axes>"
            ]
          },
          "metadata": {
            "tags": [],
            "needs_background": "light"
          }
        }
      ]
    },
    {
      "cell_type": "markdown",
      "metadata": {
        "id": "bfBtRLtmLlm0"
      },
      "source": [
        "#### Class - 'Pneumonia'\n",
        "\n",
        "Best Model - LightNet-7\n",
        "\n",
        "Accuracy - 64%\n",
        "\n",
        "AUC-ROC Score - 0.69"
      ]
    },
    {
      "cell_type": "code",
      "metadata": {
        "id": "i42xHKtpLlm1",
        "outputId": "96bd7395-a45e-4b0c-de99-cd06a97460ab"
      },
      "source": [
        "disease_class_num = 7\n",
        "ec_test_label = test_label[:,disease_class_num:disease_class_num+1]\n",
        "print(valid_data.columns[5+disease_class_num:6+disease_class_num])\n",
        "print(ec_test_label.shape)\n",
        "print(np.unique(ec_test_label, return_counts=True))\n",
        "display('Taking a look at the valid data distribution')"
      ],
      "execution_count": null,
      "outputs": [
        {
          "output_type": "stream",
          "text": [
            "Index(['Pneumonia'], dtype='object')\n",
            "(234, 1)\n",
            "(array([0., 1.]), array([226,   8], dtype=int64))\n"
          ],
          "name": "stdout"
        },
        {
          "output_type": "display_data",
          "data": {
            "text/plain": [
              "'Taking a look at the valid data distribution'"
            ]
          },
          "metadata": {
            "tags": []
          }
        }
      ]
    },
    {
      "cell_type": "code",
      "metadata": {
        "id": "Sep3pJYyLlm3"
      },
      "source": [
        "summary_result.append(['Pneumonia',64,0.69,'LightNet-7'])"
      ],
      "execution_count": null,
      "outputs": []
    },
    {
      "cell_type": "code",
      "metadata": {
        "id": "N965FOMGLlm4",
        "outputId": "8064bfd4-ff58-465a-a1c4-d5d30bca381f"
      },
      "source": [
        "y_orig = to_categorical(ec_test_label.ravel())\n",
        "\n",
        "loaded_model =  pickle.load(open(best_model_path + 'pneumonia_LN.pkl', 'rb'))\n",
        "\n",
        "display('For LightNet-7')\n",
        "pred = loaded_model.predict(test_data)\n",
        "y_pred = np.where(pred > 0.5, 1.0, 0.0)\n",
        "evaluate_model_performance_valid_data(y_orig, y_pred)"
      ],
      "execution_count": null,
      "outputs": [
        {
          "output_type": "display_data",
          "data": {
            "text/plain": [
              "'For LightNet-7'"
            ]
          },
          "metadata": {
            "tags": []
          }
        },
        {
          "output_type": "stream",
          "text": [
            "Accuracy is: 0.6367521367521367\n",
            "AUC score is: 0.6913716814159292\n",
            "[[143  83]\n",
            " [  2   6]]\n"
          ],
          "name": "stdout"
        },
        {
          "output_type": "display_data",
          "data": {
            "image/png": "[encoded data removed]",
            "text/plain": [
              "<Figure size 360x360 with 2 Axes>"
            ]
          },
          "metadata": {
            "tags": [],
            "needs_background": "light"
          }
        }
      ]
    },
    {
      "cell_type": "markdown",
      "metadata": {
        "id": "zCIetG4nLlm7"
      },
      "source": [
        "#### Class - 'Atelectasis'\n",
        "\n",
        "Best Model - DenseNet121\n",
        "\n",
        "Accuracy - 54%\n",
        "\n",
        "AUC-ROC Score - 0.59"
      ]
    },
    {
      "cell_type": "code",
      "metadata": {
        "id": "YLxvdpvWLlm7",
        "outputId": "c40b53c9-9f40-4180-ffe5-5b1a5152bfbf"
      },
      "source": [
        "disease_class_num = 8\n",
        "ec_test_label = test_label[:,disease_class_num:disease_class_num+1]\n",
        "print(valid_data.columns[5+disease_class_num:6+disease_class_num])\n",
        "print(ec_test_label.shape)\n",
        "print(np.unique(ec_test_label, return_counts=True))\n",
        "display('Taking a look at the valid data distribution')"
      ],
      "execution_count": null,
      "outputs": [
        {
          "output_type": "stream",
          "text": [
            "Index(['Atelectasis'], dtype='object')\n",
            "(234, 1)\n",
            "(array([0., 1.]), array([154,  80], dtype=int64))\n"
          ],
          "name": "stdout"
        },
        {
          "output_type": "display_data",
          "data": {
            "text/plain": [
              "'Taking a look at the valid data distribution'"
            ]
          },
          "metadata": {
            "tags": []
          }
        }
      ]
    },
    {
      "cell_type": "code",
      "metadata": {
        "id": "fKIU29jrLlm9"
      },
      "source": [
        "summary_result.append(['Atelectasis',54,0.59,'DenseNet-121'])"
      ],
      "execution_count": null,
      "outputs": []
    },
    {
      "cell_type": "code",
      "metadata": {
        "id": "GcUQYTY7LlnB",
        "outputId": "6e0e02ed-6aae-426e-bf31-940f81b6f2a1"
      },
      "source": [
        "y_orig = to_categorical(ec_test_label.ravel())\n",
        "\n",
        "loaded_model =  pickle.load(open(best_model_path + 'atelectasis_DN.pkl', 'rb'))\n",
        "\n",
        "display('For DenseNet121')\n",
        "pred = loaded_model.predict(test_data)\n",
        "y_pred = np.where(pred > 0.5, 1.0, 0.0)\n",
        "evaluate_model_performance_valid_data(y_orig, y_pred)"
      ],
      "execution_count": null,
      "outputs": [
        {
          "output_type": "display_data",
          "data": {
            "text/plain": [
              "'For DenseNet121'"
            ]
          },
          "metadata": {
            "tags": []
          }
        },
        {
          "output_type": "stream",
          "text": [
            "Accuracy is: 0.5384615384615384\n",
            "AUC score is: 0.5892857142857143\n",
            "[[66 88]\n",
            " [20 60]]\n"
          ],
          "name": "stdout"
        },
        {
          "output_type": "display_data",
          "data": {
            "image/png": "[encoded data removed]",
            "text/plain": [
              "<Figure size 360x360 with 2 Axes>"
            ]
          },
          "metadata": {
            "tags": [],
            "needs_background": "light"
          }
        }
      ]
    },
    {
      "cell_type": "markdown",
      "metadata": {
        "id": "cd2RShUuLlnD"
      },
      "source": [
        "#### Class - 'Pneumothorax'\n",
        "\n",
        "Best Model - LightNet-7\n",
        "\n",
        "Accuracy - 60%\n",
        "\n",
        "AUC-ROC Score - 0.43"
      ]
    },
    {
      "cell_type": "code",
      "metadata": {
        "id": "We0K4vPSLlnD",
        "outputId": "ab74e68e-09e4-4ffe-83b8-515d310b08ff"
      },
      "source": [
        "disease_class_num = 9\n",
        "ec_test_label = test_label[:,disease_class_num:disease_class_num+1]\n",
        "print(valid_data.columns[5+disease_class_num:6+disease_class_num])\n",
        "print(ec_test_label.shape)\n",
        "print(np.unique(ec_test_label, return_counts=True))\n",
        "display('Taking a look at the valid data distribution')"
      ],
      "execution_count": null,
      "outputs": [
        {
          "output_type": "stream",
          "text": [
            "Index(['Pneumothorax'], dtype='object')\n",
            "(234, 1)\n",
            "(array([0., 1.]), array([226,   8], dtype=int64))\n"
          ],
          "name": "stdout"
        },
        {
          "output_type": "display_data",
          "data": {
            "text/plain": [
              "'Taking a look at the valid data distribution'"
            ]
          },
          "metadata": {
            "tags": []
          }
        }
      ]
    },
    {
      "cell_type": "code",
      "metadata": {
        "id": "CURvCNuiLlnG"
      },
      "source": [
        "summary_result.append(['Pneumothorax',60 , 0.43,'LightNet-7'])"
      ],
      "execution_count": null,
      "outputs": []
    },
    {
      "cell_type": "code",
      "metadata": {
        "id": "hgdy6aLRLlnH",
        "outputId": "c5a1a203-0d31-42f0-a0de-c16121c1f767"
      },
      "source": [
        "y_orig = to_categorical(ec_test_label.ravel())\n",
        "loaded_model =  pickle.load(open(best_model_path + 'pneumothorax_LN.pkl', 'rb'))\n",
        "\n",
        "display('For LightNet-7')\n",
        "pred = loaded_model.predict(test_data)\n",
        "y_pred = np.where(pred > 0.5, 1.0, 0.0)\n",
        "\n",
        "evaluate_model_performance_valid_data(y_orig, y_pred)"
      ],
      "execution_count": null,
      "outputs": [
        {
          "output_type": "display_data",
          "data": {
            "text/plain": [
              "'For LightNet-7'"
            ]
          },
          "metadata": {
            "tags": []
          }
        },
        {
          "output_type": "stream",
          "text": [
            "Accuracy is: 0.594017094017094\n",
            "AUC score is: 0.42809734513274333\n",
            "[[137  89]\n",
            " [  6   2]]\n"
          ],
          "name": "stdout"
        },
        {
          "output_type": "display_data",
          "data": {
            "image/png": "[encoded data removed]",
            "text/plain": [
              "<Figure size 360x360 with 2 Axes>"
            ]
          },
          "metadata": {
            "tags": [],
            "needs_background": "light"
          }
        }
      ]
    },
    {
      "cell_type": "markdown",
      "metadata": {
        "id": "bpmiGImlLlnJ"
      },
      "source": [
        "#### Class - 'Pleural Effusion'\n",
        "\n",
        "Best Model - DenseNet121\n",
        "\n",
        "Accuracy - 72%\n",
        "\n",
        "AUC-ROC Score - 0.69"
      ]
    },
    {
      "cell_type": "code",
      "metadata": {
        "id": "SSJzbMmaLlnK",
        "outputId": "c4ce8965-e0b9-49dc-92e4-efbcf2a8fdbf"
      },
      "source": [
        "disease_class_num = 10\n",
        "ec_test_label = test_label[:,disease_class_num:disease_class_num+1]\n",
        "print(valid_data.columns[5+disease_class_num:6+disease_class_num])\n",
        "print(ec_test_label.shape)\n",
        "print(np.unique(ec_test_label, return_counts=True))\n",
        "display('Taking a look at the valid data distribution')"
      ],
      "execution_count": null,
      "outputs": [
        {
          "output_type": "stream",
          "text": [
            "Index(['Pleural Effusion'], dtype='object')\n",
            "(234, 1)\n",
            "(array([0., 1.]), array([167,  67], dtype=int64))\n"
          ],
          "name": "stdout"
        },
        {
          "output_type": "display_data",
          "data": {
            "text/plain": [
              "'Taking a look at the valid data distribution'"
            ]
          },
          "metadata": {
            "tags": []
          }
        }
      ]
    },
    {
      "cell_type": "code",
      "metadata": {
        "id": "OV4hw_rPLlnM"
      },
      "source": [
        "summary_result.append(['Pleural Effusion',72,0.69,'DenseNet-121'])"
      ],
      "execution_count": null,
      "outputs": []
    },
    {
      "cell_type": "code",
      "metadata": {
        "id": "2ti-8ou-LlnN",
        "outputId": "5b26da65-2818-4335-f062-8e67cfecca16"
      },
      "source": [
        "y_orig = to_categorical(ec_test_label.ravel())\n",
        "\n",
        "loaded_model =  pickle.load(open(best_model_path + 'pleural_effusion_DN.pkl', 'rb'))\n",
        "\n",
        "display('For DenseNet121')\n",
        "pred = loaded_model.predict(test_data)\n",
        "y_pred = np.where(pred > 0.5, 1.0, 0.0)\n",
        "evaluate_model_performance_valid_data(y_orig, y_pred)"
      ],
      "execution_count": null,
      "outputs": [
        {
          "output_type": "display_data",
          "data": {
            "text/plain": [
              "'For DenseNet121'"
            ]
          },
          "metadata": {
            "tags": []
          }
        },
        {
          "output_type": "stream",
          "text": [
            "Accuracy is: 0.717948717948718\n",
            "AUC score is: 0.6862096702118151\n",
            "[[127  40]\n",
            " [ 26  41]]\n"
          ],
          "name": "stdout"
        },
        {
          "output_type": "display_data",
          "data": {
            "image/png": "[encoded data removed]",
            "text/plain": [
              "<Figure size 360x360 with 2 Axes>"
            ]
          },
          "metadata": {
            "tags": [],
            "needs_background": "light"
          }
        }
      ]
    },
    {
      "cell_type": "markdown",
      "metadata": {
        "id": "ZvF5yCq1LlnP"
      },
      "source": [
        "#### Class - 'Pleural Other'\n",
        "\n",
        "Best Model - DenseNet121\n",
        "\n",
        "Accuracy - 71%\n",
        "\n",
        "AUC-ROC Score - 0.85"
      ]
    },
    {
      "cell_type": "code",
      "metadata": {
        "id": "VcY55XQlLlnQ",
        "outputId": "2c983317-5364-434c-8924-19f0101cda7c"
      },
      "source": [
        "disease_class_num = 11\n",
        "ec_test_label = test_label[:,disease_class_num:disease_class_num+1]\n",
        "print(valid_data.columns[5+disease_class_num:6+disease_class_num])\n",
        "print(ec_test_label.shape)\n",
        "print(np.unique(ec_test_label, return_counts=True))\n",
        "display('Taking a look at the valid data distribution')"
      ],
      "execution_count": null,
      "outputs": [
        {
          "output_type": "stream",
          "text": [
            "Index(['Pleural Other'], dtype='object')\n",
            "(234, 1)\n",
            "(array([0., 1.]), array([233,   1], dtype=int64))\n"
          ],
          "name": "stdout"
        },
        {
          "output_type": "display_data",
          "data": {
            "text/plain": [
              "'Taking a look at the valid data distribution'"
            ]
          },
          "metadata": {
            "tags": []
          }
        }
      ]
    },
    {
      "cell_type": "code",
      "metadata": {
        "id": "oktDzIhGLlnR"
      },
      "source": [
        "summary_result.append(['Pleural Other',71,0.85,'DenseNet-121'])"
      ],
      "execution_count": null,
      "outputs": []
    },
    {
      "cell_type": "code",
      "metadata": {
        "id": "z-hisimnLlnU",
        "outputId": "dc6c9c92-f4e7-4aa4-87d2-eabdec20dc88"
      },
      "source": [
        "y_orig = to_categorical(ec_test_label.ravel())\n",
        "\n",
        "loaded_model =  pickle.load(open(best_model_path + 'pleural_other_DN.pkl', 'rb'))\n",
        "\n",
        "display('For DenseNet121')\n",
        "pred = loaded_model.predict(test_data)\n",
        "y_pred = np.where(pred > 0.5, 1.0, 0.0)\n",
        "evaluate_model_performance_valid_data(y_orig, y_pred)"
      ],
      "execution_count": null,
      "outputs": [
        {
          "output_type": "stream",
          "text": [
            "WARNING:tensorflow:From D:\\Users\\Aditya Bhattacharya\\Anaconda3\\lib\\site-packages\\tensorflow\\python\\ops\\math_ops.py:3066: to_int32 (from tensorflow.python.ops.math_ops) is deprecated and will be removed in a future version.\n",
            "Instructions for updating:\n",
            "Use tf.cast instead.\n"
          ],
          "name": "stdout"
        },
        {
          "output_type": "display_data",
          "data": {
            "text/plain": [
              "'For DenseNet121'"
            ]
          },
          "metadata": {
            "tags": []
          }
        },
        {
          "output_type": "stream",
          "text": [
            "Accuracy is: 0.7008547008547008\n",
            "AUC score is: 0.849785407725322\n",
            "[[163  70]\n",
            " [  0   1]]\n"
          ],
          "name": "stdout"
        },
        {
          "output_type": "display_data",
          "data": {
            "image/png": "[encoded data removed]",
            "text/plain": [
              "<Figure size 360x360 with 2 Axes>"
            ]
          },
          "metadata": {
            "tags": [],
            "needs_background": "light"
          }
        }
      ]
    },
    {
      "cell_type": "markdown",
      "metadata": {
        "id": "-yKXfD6ILlnW"
      },
      "source": [
        "#### Class - 'Fracture'\n",
        "\n",
        "Best Model - LightNet-7\n",
        "\n",
        "Accuracy - 45%\n",
        "\n",
        "AUC-ROC Score - 0.73"
      ]
    },
    {
      "cell_type": "code",
      "metadata": {
        "id": "M4YUr0-VLlnW",
        "outputId": "9cb840f6-59be-411d-efcb-8394f2e9c7ea"
      },
      "source": [
        "disease_class_num = 12\n",
        "ec_test_label = test_label[:,disease_class_num:disease_class_num+1]\n",
        "print(valid_data.columns[5+disease_class_num:6+disease_class_num])\n",
        "print(ec_test_label.shape)\n",
        "print(np.unique(ec_test_label, return_counts=True))\n",
        "display('Taking a look at the valid data distribution')"
      ],
      "execution_count": null,
      "outputs": [
        {
          "output_type": "stream",
          "text": [
            "Index(['Fracture'], dtype='object')\n",
            "(234, 1)\n",
            "(array([0.]), array([234], dtype=int64))\n"
          ],
          "name": "stdout"
        },
        {
          "output_type": "display_data",
          "data": {
            "text/plain": [
              "'Taking a look at the valid data distribution'"
            ]
          },
          "metadata": {
            "tags": []
          }
        }
      ]
    },
    {
      "cell_type": "code",
      "metadata": {
        "id": "RnZDqro7LlnY"
      },
      "source": [
        "summary_result.append(['Fracture',45,0.73,'LightNet-7'])"
      ],
      "execution_count": null,
      "outputs": []
    },
    {
      "cell_type": "code",
      "metadata": {
        "id": "M7eCfQnkLlnZ",
        "outputId": "e40e0b26-3730-4ec3-9ce9-989b1df3009f"
      },
      "source": [
        "y_orig = to_categorical(ec_test_label.ravel())\n",
        "loaded_model =  pickle.load(open(best_model_path + 'fracture_LN.pkl', 'rb'))\n",
        "\n",
        "display('For LightNet-7')\n",
        "y_orig[-1] = 0.0\n",
        "pred = loaded_model.predict(test_data)\n",
        "y_orig = to_categorical(y_orig)\n",
        "y_pred = np.where(pred > 0.5, 1.0, 0.0)\n",
        "\n",
        "evaluate_model_performance_valid_data(y_orig, y_pred)"
      ],
      "execution_count": null,
      "outputs": [
        {
          "output_type": "display_data",
          "data": {
            "text/plain": [
              "'For LightNet-7'"
            ]
          },
          "metadata": {
            "tags": []
          }
        },
        {
          "output_type": "stream",
          "text": [
            "Accuracy is: 0.44871794871794873\n",
            "AUC score is: 0.7231759656652361\n",
            "[[  1   0]\n",
            " [129 104]]\n"
          ],
          "name": "stdout"
        },
        {
          "output_type": "display_data",
          "data": {
            "image/png": "[encoded data removed]",
            "text/plain": [
              "<Figure size 360x360 with 2 Axes>"
            ]
          },
          "metadata": {
            "tags": [],
            "needs_background": "light"
          }
        }
      ]
    },
    {
      "cell_type": "markdown",
      "metadata": {
        "id": "LsVLeyGgLlnb"
      },
      "source": [
        "#### Class - 'Support Devices'\n",
        "\n",
        "Best Model - LightNet-7\n",
        "\n",
        "Accuracy - 54%\n",
        "\n",
        "AUC-ROC Score - 0.5"
      ]
    },
    {
      "cell_type": "code",
      "metadata": {
        "id": "MfdwGgGqLlnb",
        "outputId": "5814cef2-3a14-44de-af7d-91ead8edda66"
      },
      "source": [
        "disease_class_num = 13\n",
        "ec_test_label = test_label[:,disease_class_num:disease_class_num+1]\n",
        "print(valid_data.columns[5+disease_class_num:6+disease_class_num])\n",
        "print(ec_test_label.shape)\n",
        "print(np.unique(ec_test_label, return_counts=True))\n",
        "display('Taking a look at the valid data distribution')"
      ],
      "execution_count": null,
      "outputs": [
        {
          "output_type": "stream",
          "text": [
            "Index(['Support Devices'], dtype='object')\n",
            "(234, 1)\n",
            "(array([0., 1.]), array([127, 107], dtype=int64))\n"
          ],
          "name": "stdout"
        },
        {
          "output_type": "display_data",
          "data": {
            "text/plain": [
              "'Taking a look at the valid data distribution'"
            ]
          },
          "metadata": {
            "tags": []
          }
        }
      ]
    },
    {
      "cell_type": "code",
      "metadata": {
        "id": "mwWPt7YzLlnc"
      },
      "source": [
        "summary_result.append(['Support Devices',54,0.5,'LightNet-7'])"
      ],
      "execution_count": null,
      "outputs": []
    },
    {
      "cell_type": "code",
      "metadata": {
        "id": "JpYNT7E-Llnd"
      },
      "source": [
        "y_orig = to_categorical(ec_test_label.ravel())\n",
        "loaded_model =  pickle.load(open(best_model_path + 'supported_devices_LN.pkl', 'rb'))"
      ],
      "execution_count": null,
      "outputs": []
    },
    {
      "cell_type": "code",
      "metadata": {
        "id": "cs-hLxRhLlnf",
        "outputId": "7e19aa28-5455-4e4e-972f-7e4316a6cbd8"
      },
      "source": [
        "display('For LightNet-7')\n",
        "pred = loaded_model.predict(test_data)\n",
        "y_pred = np.where(pred < 0.5, 1.0, 0.0)\n",
        "\n",
        "evaluate_model_performance_valid_data(y_orig, y_pred)"
      ],
      "execution_count": null,
      "outputs": [
        {
          "output_type": "display_data",
          "data": {
            "text/plain": [
              "'For LightNet-7'"
            ]
          },
          "metadata": {
            "tags": []
          }
        },
        {
          "output_type": "stream",
          "text": [
            "Accuracy is: 0.5341880341880342\n",
            "AUC score is: 0.5\n",
            "[[132   0]\n",
            " [102   0]]\n"
          ],
          "name": "stdout"
        },
        {
          "output_type": "display_data",
          "data": {
            "image/png": "[encoded data removed]",
            "text/plain": [
              "<Figure size 360x360 with 2 Axes>"
            ]
          },
          "metadata": {
            "tags": [],
            "needs_background": "light"
          }
        }
      ]
    },
    {
      "cell_type": "markdown",
      "metadata": {
        "id": "KMXSJzvTLlng"
      },
      "source": [
        "#### Results Summary"
      ]
    },
    {
      "cell_type": "code",
      "metadata": {
        "id": "ol5BgDk4Llni",
        "outputId": "2def48e3-df41-4536-d2c4-0cf868cb1c2e"
      },
      "source": [
        "pd.DataFrame(summary_result, columns = ['Pathology','Accuracy(%)','AUC-ROC Score','Best Model'])"
      ],
      "execution_count": null,
      "outputs": [
        {
          "output_type": "execute_result",
          "data": {
            "text/html": [
              "<div>\n",
              "<style scoped>\n",
              "    .dataframe tbody tr th:only-of-type {\n",
              "        vertical-align: middle;\n",
              "    }\n",
              "\n",
              "    .dataframe tbody tr th {\n",
              "        vertical-align: top;\n",
              "    }\n",
              "\n",
              "    .dataframe thead th {\n",
              "        text-align: right;\n",
              "    }\n",
              "</style>\n",
              "<table border=\"1\" class=\"dataframe\">\n",
              "  <thead>\n",
              "    <tr style=\"text-align: right;\">\n",
              "      <th></th>\n",
              "      <th>Pathology</th>\n",
              "      <th>Accuracy(%)</th>\n",
              "      <th>AUC-ROC Score</th>\n",
              "      <th>Best Model</th>\n",
              "    </tr>\n",
              "  </thead>\n",
              "  <tbody>\n",
              "    <tr>\n",
              "      <th>0</th>\n",
              "      <td>No Finding</td>\n",
              "      <td>84</td>\n",
              "      <td>0.50</td>\n",
              "      <td>LightNet-7</td>\n",
              "    </tr>\n",
              "    <tr>\n",
              "      <th>1</th>\n",
              "      <td>Enlarged Cardiomediastinum</td>\n",
              "      <td>79</td>\n",
              "      <td>0.79</td>\n",
              "      <td>LightNet-7</td>\n",
              "    </tr>\n",
              "    <tr>\n",
              "      <th>2</th>\n",
              "      <td>Cardiomegaly</td>\n",
              "      <td>74</td>\n",
              "      <td>0.71</td>\n",
              "      <td>LightNet-7</td>\n",
              "    </tr>\n",
              "    <tr>\n",
              "      <th>3</th>\n",
              "      <td>Lung Opacity</td>\n",
              "      <td>72</td>\n",
              "      <td>0.72</td>\n",
              "      <td>LightNet-7</td>\n",
              "    </tr>\n",
              "    <tr>\n",
              "      <th>4</th>\n",
              "      <td>Lung Lesion</td>\n",
              "      <td>47</td>\n",
              "      <td>0.74</td>\n",
              "      <td>DenseNet-121</td>\n",
              "    </tr>\n",
              "    <tr>\n",
              "      <th>5</th>\n",
              "      <td>Edema</td>\n",
              "      <td>79</td>\n",
              "      <td>0.77</td>\n",
              "      <td>LightNet-7</td>\n",
              "    </tr>\n",
              "    <tr>\n",
              "      <th>6</th>\n",
              "      <td>Consolidation</td>\n",
              "      <td>68</td>\n",
              "      <td>0.81</td>\n",
              "      <td>LightNet-7</td>\n",
              "    </tr>\n",
              "    <tr>\n",
              "      <th>7</th>\n",
              "      <td>Pneumonia</td>\n",
              "      <td>64</td>\n",
              "      <td>0.69</td>\n",
              "      <td>LightNet-7</td>\n",
              "    </tr>\n",
              "    <tr>\n",
              "      <th>8</th>\n",
              "      <td>Atelectasis</td>\n",
              "      <td>54</td>\n",
              "      <td>0.59</td>\n",
              "      <td>DenseNet-121</td>\n",
              "    </tr>\n",
              "    <tr>\n",
              "      <th>9</th>\n",
              "      <td>Pneumothorax</td>\n",
              "      <td>60</td>\n",
              "      <td>0.43</td>\n",
              "      <td>LightNet-7</td>\n",
              "    </tr>\n",
              "    <tr>\n",
              "      <th>10</th>\n",
              "      <td>Pleural Effusion</td>\n",
              "      <td>72</td>\n",
              "      <td>0.69</td>\n",
              "      <td>DenseNet-121</td>\n",
              "    </tr>\n",
              "    <tr>\n",
              "      <th>11</th>\n",
              "      <td>Pleural Other</td>\n",
              "      <td>71</td>\n",
              "      <td>0.85</td>\n",
              "      <td>DenseNet-121</td>\n",
              "    </tr>\n",
              "    <tr>\n",
              "      <th>12</th>\n",
              "      <td>Fracture</td>\n",
              "      <td>45</td>\n",
              "      <td>0.73</td>\n",
              "      <td>LightNet-7</td>\n",
              "    </tr>\n",
              "    <tr>\n",
              "      <th>13</th>\n",
              "      <td>Support Devices</td>\n",
              "      <td>54</td>\n",
              "      <td>0.50</td>\n",
              "      <td>LightNet-7</td>\n",
              "    </tr>\n",
              "  </tbody>\n",
              "</table>\n",
              "</div>"
            ],
            "text/plain": [
              "                     Pathology  Accuracy(%)  AUC-ROC Score    Best Model\n",
              "0                   No Finding           84           0.50    LightNet-7\n",
              "1   Enlarged Cardiomediastinum           79           0.79    LightNet-7\n",
              "2                 Cardiomegaly           74           0.71    LightNet-7\n",
              "3                 Lung Opacity           72           0.72    LightNet-7\n",
              "4                  Lung Lesion           47           0.74  DenseNet-121\n",
              "5                        Edema           79           0.77    LightNet-7\n",
              "6                Consolidation           68           0.81    LightNet-7\n",
              "7                    Pneumonia           64           0.69    LightNet-7\n",
              "8                  Atelectasis           54           0.59  DenseNet-121\n",
              "9                 Pneumothorax           60           0.43    LightNet-7\n",
              "10            Pleural Effusion           72           0.69  DenseNet-121\n",
              "11               Pleural Other           71           0.85  DenseNet-121\n",
              "12                    Fracture           45           0.73    LightNet-7\n",
              "13             Support Devices           54           0.50    LightNet-7"
            ]
          },
          "metadata": {
            "tags": []
          },
          "execution_count": 50
        }
      ]
    },
    {
      "cell_type": "markdown",
      "metadata": {
        "id": "eDQEqS1cLlnj"
      },
      "source": [
        "### Section 4 - Challenges Faced and Future Improvements"
      ]
    },
    {
      "cell_type": "markdown",
      "metadata": {
        "id": "_PB-WVKqLlnj"
      },
      "source": [
        "1. One of the key challenges faced was how to deal with null values for classification result. Based on initial experiments and exploratory analysis, it was decided to simply drop the null values while doing class-wise analysis.\n",
        "2. The requirement of a high performing GPU system and the overall infrastructure (including the data pipeline) was an initial challenge, which was finally mitigated with the help of Azure Cloud\n",
        "3. Dealing with uncertain classes was one of the initial challenges, although the U-Ignore approach as mentioned in reference [4](https://arxiv.org/abs/1711.05225) was followed for this project\n",
        "4. One of the future improvments can be specific localization with the help of Regional CNN (R-CNN)\n",
        "5. The main challenge was with how to dela with the uncertain classes and the missing value. A future improvement can be to try other approaches like U-One, U-Zero, U-SelfTrained on the current models and see which approach works better for the disease classes\n",
        "6. Although SMOTE approach helped us solve the problem of imblanced classes to a great extent but it was very slow, and often the problem of memory exhaustion can come due to it. So, a better way to apply SMOTE will be in mini-batches of the data, hence mini-batch SMOTE will be one approach that we want to try in future, that will help the overall framework/algorithm to run faster.\n",
        "7. Identifying the correct loss function is sometimes a neglected area. But the correct loss function can reduce the training time and can even optimize the model performance. So, in future we want to explore more loss functions as mentioned in some of the reference research papers.\n"
      ]
    },
    {
      "cell_type": "markdown",
      "metadata": {
        "id": "VxgChYQDLlnj"
      },
      "source": [
        "### Section 5 - Conclusions"
      ]
    },
    {
      "cell_type": "markdown",
      "metadata": {
        "id": "eF2ZUjJ9Llnk"
      },
      "source": [
        "1. The novel approach of combining CNN with Ensemble Classification Algorithmns did not work that well. Although the ensemble methods, like XGBoost and AdaBoost worked well with the validation set at training phase but not that good with testing phase valid data\n",
        "2. The LightNet-7 model was the fastest and yet quite good for majory of the classes\n",
        "3. SMOTE upsampling minority class approach proved better than data augmentation and helped in reducing bias from majority class "
      ]
    },
    {
      "cell_type": "markdown",
      "metadata": {
        "id": "mJM9SIRqLlnk"
      },
      "source": [
        "### Section 6 - References\n",
        "\n",
        "\n",
        "1. The book, Deep Learning with Python, by Francois Chollet.\n",
        "2. HongyuWang, Yong Xia. ChestNet: A Deep Neural Network for Classification of Thoracic Diseases on Chest Radiography.\n",
        "3. Z. Ge, D. Mahapatra, S. Sedai, R. Garnavi, and R. Chakravorty. Chest x-rays classification: A multi-label and fine-grained problem. CoRR, abs/1807.07247, 2018.\n",
        "4. P. Rajpurkar et al. (2017). ‘‘CheXNet: Radiologist-level pneumonia detection on chest X-rays with deep learning.’’ [Online]. Available: https://arxiv.org/abs/1711.05225\n",
        "5. J. Irvin et al. (2019). ‘‘CheXpert: A large chest radiograph dataset with uncertainty labels and expert comparison.’’ [Online]. Available: https://arxiv.org/abs/1901.07031\n",
        "6. Allaouzi, I., Ben Ahmed, M. (2019). A Novel Approach for Multi-Label Chest X-Ray Classification of Common Thorax Diseases. IEEE Access 7(1), 64279-64288\n",
        "7. H. Liu, L. Wang, Y. Nan, F. Jin, and J. Pu. Sdfn: Segmentation-based deep fusion network for thoracic disease classification in chest x-ray images. arXiv preprint arXiv:1810.12959, 2018.\n",
        "8. Q. Guan and Y. Huang. Multi-label chest x-ray image classification via category-wise residual attention learning. Pattern Recognition Letters, 2018.\n",
        "9. Z. Li et al. “Thoracic disease identification and localization with limited supervision”. CVPR, 2018.\n",
        "10. Multi-label, multi-class classification of chest X-ray images using PyTorch https://github.com/dcela/chexpert\n",
        "11. Half a million x-rays! First impressions of the Stanford and MIT chest x-ray datasets https://lukeoakdenrayner.wordpress.com/2019/02/25/half-a-million-x-rays-first-impressions-of-the-stanfordand- mit-chest-x-ray-datasets/\n",
        "12. CheXpert: A Large Chest X-Ray Dataset and Competition; A repository created for the MAP583 Deep Learning project by Gaëtan Dissez & Guillaume Duboc; https://github.com/gaetandi/cheXpert\n",
        "13. ResNet Keras Framework: https://github.com/keras-team/keras/blob/master/examples/cifar10_resnet.py\n",
        "14. Managing Imbalanced Data Sets in Multi-label Problems: A Case Study with the SMOTE Algorithm by Giraldo- Forero et al. https://link.springer.com/content/pdf/10.1007/978-3-642-41822-8_42.pdf\n"
      ]
    },
    {
      "cell_type": "markdown",
      "metadata": {
        "id": "t7bXWotoLlnk"
      },
      "source": [
        "**A special mention to the book *Deep Learning with Python, by Francois Chollet* as some of the code and concepts were referenced from there, and for the papers *CheXpert* and *CheXNet***"
      ]
    },
    {
      "cell_type": "code",
      "metadata": {
        "id": "4M5C53cBLlnk"
      },
      "source": [
        ""
      ],
      "execution_count": null,
      "outputs": []
    }
  ]
}